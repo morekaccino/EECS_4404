{
 "cells": [
  {
   "cell_type": "code",
   "execution_count": 32,
   "metadata": {
    "collapsed": true,
    "pycharm": {
     "is_executing": false
    }
   },
   "outputs": [],
   "source": [
    "import numpy as np"
   ]
  },
  {
   "cell_type": "code",
   "execution_count": 33,
   "outputs": [],
   "source": [
    "def sigmoid(z):\n",
    "  return 1.0 / (1 + np.exp(-z))"
   ],
   "metadata": {
    "collapsed": false,
    "pycharm": {
     "name": "#%%\n",
     "is_executing": false
    }
   }
  },
  {
   "cell_type": "code",
   "execution_count": 34,
   "outputs": [],
   "source": [
    "def predict(features, weights):\n",
    "  '''\n",
    "  Returns 1D array of probabilities\n",
    "  that the class label == 1\n",
    "  '''\n",
    "  z = np.dot(features, weights)\n",
    "  print('W.X',z)\n",
    "  return sigmoid(z)"
   ],
   "metadata": {
    "collapsed": false,
    "pycharm": {
     "name": "#%%\n",
     "is_executing": false
    }
   }
  },
  {
   "cell_type": "code",
   "execution_count": 35,
   "outputs": [],
   "source": [
    "def update_weights(features, labels, weights, lr):\n",
    "    '''\n",
    "    Vectorized Gradient Descent\n",
    "\n",
    "    Features:(200, 3)\n",
    "    Labels: (200, 1)\n",
    "    Weights:(3, 1)\n",
    "    '''\n",
    "    N = len(features)\n",
    "\n",
    "    #1 - Get Predictions\n",
    "    predictions = predict(features, weights)\n",
    "    print('S(W.T)', predictions)\n",
    "\n",
    "    print('S(W.T) - Y', predictions - labels)\n",
    "    #2 Transpose features from (200, 3) to (3, 200)\n",
    "    # So we can multiply w the (200,1)  cost matrix.\n",
    "    # Returns a (3,1) matrix holding 3 partial derivatives --\n",
    "    # one for each feature -- representing the aggregate\n",
    "    # slope of the cost function across all observations\n",
    "    gradient = np.dot(features.T,  predictions - labels)\n",
    "\n",
    "    #3 Take the average cost derivative for each feature\n",
    "    gradient /= N\n",
    "\n",
    "    #4 - Multiply the gradient by our learning rate\n",
    "    gradient *= lr\n",
    "    print('g', gradient)\n",
    "\n",
    "    #5 - Subtract from our weights to minimize cost\n",
    "    weights -= gradient\n",
    "\n",
    "    return weights\n"
   ],
   "metadata": {
    "collapsed": false,
    "pycharm": {
     "name": "#%%\n",
     "is_executing": false
    }
   }
  },
  {
   "cell_type": "code",
   "execution_count": 36,
   "outputs": [],
   "source": [
    "features = [\n",
    "    [1,0],\n",
    "    [1,1],\n",
    "    [1,0.4],\n",
    "    [1,-1.2],\n",
    "    [1,-0.1]\n",
    "]\n",
    "features = np.array(features)"
   ],
   "metadata": {
    "collapsed": false,
    "pycharm": {
     "name": "#%%\n",
     "is_executing": false
    }
   }
  },
  {
   "cell_type": "code",
   "execution_count": 37,
   "outputs": [],
   "source": [
    "labels = [\n",
    "    1,\n",
    "    -1,\n",
    "    1,\n",
    "    -1,\n",
    "    1\n",
    "]"
   ],
   "metadata": {
    "collapsed": false,
    "pycharm": {
     "name": "#%%\n",
     "is_executing": false
    }
   }
  },
  {
   "cell_type": "code",
   "execution_count": 38,
   "outputs": [],
   "source": [
    "w0 = [1, 0.5]"
   ],
   "metadata": {
    "collapsed": false,
    "pycharm": {
     "name": "#%%\n",
     "is_executing": false
    }
   }
  },
  {
   "cell_type": "code",
   "execution_count": 39,
   "outputs": [
    {
     "name": "stdout",
     "text": [
      "W.X [1.   1.5  1.2  0.4  0.95]\nS(W.T) [0.73105858 0.81757448 0.76852478 0.59868766 0.72111518]\nS(W.T) - Y [-0.26894142  1.81757448 -0.23147522  1.59868766 -0.27888482]\ng [ 5.27392135e-04 -3.31104641e-05]\n"
     ],
     "output_type": "stream"
    },
    {
     "data": {
      "text/plain": "array([0.99947261, 0.50003311])"
     },
     "metadata": {},
     "output_type": "execute_result",
     "execution_count": 39
    }
   ],
   "source": [
    "w1 = update_weights(features, labels, w0,0.001)\n",
    "w1"
   ],
   "metadata": {
    "collapsed": false,
    "pycharm": {
     "name": "#%%\n",
     "is_executing": false
    }
   }
  },
  {
   "cell_type": "code",
   "execution_count": 40,
   "outputs": [
    {
     "name": "stdout",
     "text": [
      "W.X [0.99947261 1.49950572 1.19948585 0.39943288 0.9494693 ]\nS(W.T) [0.73095487 0.81750074 0.76843331 0.59855139 0.72100844]\nS(W.T) - Y [-0.26904513  1.81750074 -0.23156669  1.59855139 -0.27899156]\ng [ 5.27289751e-04 -3.30976901e-05]\n"
     ],
     "output_type": "stream"
    },
    {
     "data": {
      "text/plain": "array([0.99894532, 0.50006621])"
     },
     "metadata": {},
     "output_type": "execute_result",
     "execution_count": 40
    }
   ],
   "source": [
    "w2 = update_weights(features, labels, w1,0.001)\n",
    "w2"
   ],
   "metadata": {
    "collapsed": false,
    "pycharm": {
     "name": "#%%\n",
     "is_executing": false
    }
   }
  },
  {
   "cell_type": "code",
   "execution_count": 41,
   "outputs": [
    {
     "name": "stdout",
     "text": [
      "W.X [0.99894532 1.49901153 1.1989718  0.39886587 0.9489387 ]\nS(W.T) [0.73085117 0.817427   0.76834182 0.59841514 0.72090169]\nS(W.T) - Y [-0.26914883  1.817427   -0.23165818  1.59841514 -0.27909831]\ng [ 5.27187365e-04 -3.30849217e-05]\n"
     ],
     "output_type": "stream"
    },
    {
     "data": {
      "text/plain": "array([0.99841813, 0.50009929])"
     },
     "metadata": {},
     "output_type": "execute_result",
     "execution_count": 41
    }
   ],
   "source": [
    "w3 = update_weights(features, labels, w2,0.001)\n",
    "w3"
   ],
   "metadata": {
    "collapsed": false,
    "pycharm": {
     "name": "#%%\n",
     "is_executing": false
    }
   }
  },
  {
   "cell_type": "code",
   "execution_count": 42,
   "outputs": [
    {
     "name": "stdout",
     "text": [
      "W.X [0.99841813 1.49851742 1.19845785 0.39829898 0.9484082 ]\nS(W.T) [0.73074745 0.81735325 0.76825033 0.5982789  0.72079494]\nS(W.T) - Y [-0.26925255  1.81735325 -0.23174967  1.5982789  -0.27920506]\ng [ 5.27084975e-04 -3.30721590e-05]\n"
     ],
     "output_type": "stream"
    },
    {
     "data": {
      "text/plain": "array([0.99789105, 0.50013237])"
     },
     "metadata": {},
     "output_type": "execute_result",
     "execution_count": 42
    }
   ],
   "source": [
    "w4 = update_weights(features, labels, w3,0.001)\n",
    "w4"
   ],
   "metadata": {
    "collapsed": false,
    "pycharm": {
     "name": "#%%\n",
     "is_executing": false
    }
   }
  },
  {
   "cell_type": "code",
   "execution_count": 43,
   "outputs": [
    {
     "name": "stdout",
     "text": [
      "W.X [0.99789105 1.49802341 1.19794399 0.39773221 0.94787781]\nS(W.T) [0.73064373 0.81727949 0.76815883 0.59814268 0.72068819]\nS(W.T) - Y [-0.26935627  1.81727949 -0.23184117  1.59814268 -0.27931181]\ng [ 5.26982583e-04 -3.30594019e-05]\n"
     ],
     "output_type": "stream"
    },
    {
     "data": {
      "text/plain": "array([0.99736406, 0.50016542])"
     },
     "metadata": {},
     "output_type": "execute_result",
     "execution_count": 43
    }
   ],
   "source": [
    "w5 = update_weights(features, labels, w4,0.001)\n",
    "w5"
   ],
   "metadata": {
    "collapsed": false,
    "pycharm": {
     "name": "#%%\n",
     "is_executing": false
    }
   }
  }
 ],
 "metadata": {
  "kernelspec": {
   "display_name": "Python 3",
   "language": "python",
   "name": "python3"
  },
  "language_info": {
   "codemirror_mode": {
    "name": "ipython",
    "version": 2
   },
   "file_extension": ".py",
   "mimetype": "text/x-python",
   "name": "python",
   "nbconvert_exporter": "python",
   "pygments_lexer": "ipython2",
   "version": "2.7.6"
  },
  "pycharm": {
   "stem_cell": {
    "cell_type": "raw",
    "source": [],
    "metadata": {
     "collapsed": false
    }
   }
  }
 },
 "nbformat": 4,
 "nbformat_minor": 0
}
