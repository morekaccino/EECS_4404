{
 "cells": [
  {
   "cell_type": "code",
   "execution_count": 1,
   "metadata": {
    "collapsed": true,
    "pycharm": {
     "is_executing": false
    }
   },
   "outputs": [
    {
     "data": {
      "text/plain": "array([0., 0., 0.])"
     },
     "metadata": {},
     "output_type": "execute_result",
     "execution_count": 1
    }
   ],
   "source": [
    "import numpy as np\n",
    "a = np.zeros(3)\n",
    "a"
   ]
  },
  {
   "cell_type": "code",
   "execution_count": 2,
   "outputs": [
    {
     "name": "stdout",
     "text": [
      "<class 'numpy.float64'>\n"
     ],
     "output_type": "stream"
    },
    {
     "data": {
      "text/plain": "array([0., 0., 0., 0., 0., 0., 0., 0., 0., 0.])"
     },
     "metadata": {},
     "output_type": "execute_result",
     "execution_count": 2
    }
   ],
   "source": [
    "type(a)\n",
    "print(type(a[0]))\n",
    "a = np.zeros(10)\n",
    "a"
   ],
   "metadata": {
    "collapsed": false,
    "pycharm": {
     "name": "#%%\n",
     "is_executing": false
    }
   }
  },
  {
   "cell_type": "code",
   "execution_count": 3,
   "outputs": [
    {
     "data": {
      "text/plain": "(10,)"
     },
     "metadata": {},
     "output_type": "execute_result",
     "execution_count": 3
    }
   ],
   "source": [
    "a.shape"
   ],
   "metadata": {
    "collapsed": false,
    "pycharm": {
     "name": "#%%\n",
     "is_executing": false
    }
   }
  },
  {
   "cell_type": "code",
   "execution_count": 4,
   "outputs": [
    {
     "data": {
      "text/plain": "(10, 1)"
     },
     "metadata": {},
     "output_type": "execute_result",
     "execution_count": 4
    }
   ],
   "source": [
    "a.shape = (10,1)\n",
    "a.shape"
   ],
   "metadata": {
    "collapsed": false,
    "pycharm": {
     "name": "#%%\n",
     "is_executing": false
    }
   }
  },
  {
   "cell_type": "code",
   "execution_count": 5,
   "outputs": [
    {
     "data": {
      "text/plain": "array([[0.],\n       [0.],\n       [0.],\n       [0.],\n       [0.],\n       [0.],\n       [0.],\n       [0.],\n       [0.],\n       [0.]])"
     },
     "metadata": {},
     "output_type": "execute_result",
     "execution_count": 5
    }
   ],
   "source": [
    "a"
   ],
   "metadata": {
    "collapsed": false,
    "pycharm": {
     "name": "#%%\n",
     "is_executing": false
    }
   }
  },
  {
   "cell_type": "code",
   "execution_count": 6,
   "outputs": [
    {
     "data": {
      "text/plain": "array([1., 1., 1., 1., 1., 1., 1., 1., 1., 1.])"
     },
     "metadata": {},
     "output_type": "execute_result",
     "execution_count": 6
    }
   ],
   "source": [
    "a = np.ones(10)\n",
    "a"
   ],
   "metadata": {
    "collapsed": false,
    "pycharm": {
     "name": "#%%\n",
     "is_executing": false
    }
   }
  },
  {
   "cell_type": "code",
   "execution_count": 7,
   "outputs": [
    {
     "data": {
      "text/plain": "array([0., 0., 0.])"
     },
     "metadata": {},
     "output_type": "execute_result",
     "execution_count": 7
    }
   ],
   "source": [
    "a = np.empty(3)\n",
    "a"
   ],
   "metadata": {
    "collapsed": false,
    "pycharm": {
     "name": "#%%\n",
     "is_executing": false
    }
   }
  },
  {
   "cell_type": "code",
   "execution_count": 8,
   "outputs": [
    {
     "data": {
      "text/plain": "array([0., 1., 2., 3., 4.])"
     },
     "metadata": {},
     "output_type": "execute_result",
     "execution_count": 8
    }
   ],
   "source": [
    "a = np.linspace(0,4,5)\n",
    "a"
   ],
   "metadata": {
    "collapsed": false,
    "pycharm": {
     "name": "#%%\n",
     "is_executing": false
    }
   }
  },
  {
   "cell_type": "code",
   "execution_count": 9,
   "outputs": [
    {
     "data": {
      "text/plain": "array([1, 2, 3, 4, 5, 6, 7, 8, 9])"
     },
     "metadata": {},
     "output_type": "execute_result",
     "execution_count": 9
    }
   ],
   "source": [
    "a = np.array([1,2,3,4,5,6,7,8,9])\n",
    "a"
   ],
   "metadata": {
    "collapsed": false,
    "pycharm": {
     "name": "#%%\n",
     "is_executing": false
    }
   }
  },
  {
   "cell_type": "code",
   "execution_count": 10,
   "outputs": [
    {
     "data": {
      "text/plain": "array([9, 8, 7, 6, 5, 4, 3, 2, 1])"
     },
     "metadata": {},
     "output_type": "execute_result",
     "execution_count": 10
    }
   ],
   "source": [
    "array = [9,8,7,6,5,4,3,2,1]\n",
    "a = np.array(array)\n",
    "a"
   ],
   "metadata": {
    "collapsed": false,
    "pycharm": {
     "name": "#%%\n",
     "is_executing": false
    }
   }
  },
  {
   "cell_type": "code",
   "execution_count": 11,
   "outputs": [
    {
     "data": {
      "text/plain": "array([44, 47, 64, 67, 67,  9, 83, 21, 36, 87, 70, 88, 88, 12, 58, 65, 39,\n       87, 46, 88])"
     },
     "metadata": {},
     "output_type": "execute_result",
     "execution_count": 11
    }
   ],
   "source": [
    "np.random.seed(0)\n",
    "a = np.random.randint(100,size=20)\n",
    "a"
   ],
   "metadata": {
    "collapsed": false,
    "pycharm": {
     "name": "#%%\n",
     "is_executing": false
    }
   }
  },
  {
   "cell_type": "code",
   "execution_count": 12,
   "outputs": [
    {
     "data": {
      "text/plain": "array([False, False,  True,  True,  True, False,  True, False, False,\n        True,  True,  True,  True, False,  True,  True, False,  True,\n       False,  True])"
     },
     "metadata": {},
     "output_type": "execute_result",
     "execution_count": 12
    }
   ],
   "source": [
    "b = (a > 50)\n",
    "b"
   ],
   "metadata": {
    "collapsed": false,
    "pycharm": {
     "name": "#%%\n",
     "is_executing": false
    }
   }
  },
  {
   "cell_type": "code",
   "execution_count": 13,
   "outputs": [
    {
     "data": {
      "text/plain": "numpy.ndarray"
     },
     "metadata": {},
     "output_type": "execute_result",
     "execution_count": 13
    }
   ],
   "source": [
    "type(b)"
   ],
   "metadata": {
    "collapsed": false,
    "pycharm": {
     "name": "#%%\n",
     "is_executing": false
    }
   }
  },
  {
   "cell_type": "code",
   "execution_count": 14,
   "outputs": [
    {
     "data": {
      "text/plain": "{False: 8, True: 12}"
     },
     "metadata": {},
     "output_type": "execute_result",
     "execution_count": 14
    }
   ],
   "source": [
    "unique, counts = np.unique(b, return_counts=True)\n",
    "dict(zip(unique,counts))"
   ],
   "metadata": {
    "collapsed": false,
    "pycharm": {
     "name": "#%%\n",
     "is_executing": false
    }
   }
  },
  {
   "cell_type": "code",
   "execution_count": 15,
   "outputs": [
    {
     "data": {
      "text/plain": "20"
     },
     "metadata": {},
     "output_type": "execute_result",
     "execution_count": 15
    }
   ],
   "source": [
    "a.shape[0]"
   ],
   "metadata": {
    "collapsed": false,
    "pycharm": {
     "name": "#%%\n",
     "is_executing": false
    }
   }
  },
  {
   "cell_type": "code",
   "execution_count": 16,
   "outputs": [],
   "source": [
    "from sklearn.datasets import load_iris\n",
    "X_train, y_train = load_iris(return_X_y=True)"
   ],
   "metadata": {
    "collapsed": false,
    "pycharm": {
     "name": "#%%\n",
     "is_executing": false
    }
   }
  },
  {
   "cell_type": "code",
   "execution_count": 17,
   "outputs": [
    {
     "data": {
      "text/plain": "(150, 4)"
     },
     "metadata": {},
     "output_type": "execute_result",
     "execution_count": 17
    }
   ],
   "source": [
    "X_train.shape"
   ],
   "metadata": {
    "collapsed": false,
    "pycharm": {
     "name": "#%%\n",
     "is_executing": false
    }
   }
  },
  {
   "cell_type": "code",
   "execution_count": 18,
   "outputs": [],
   "source": [
    "X_train = np.insert(X_train,0,1,axis=1)"
   ],
   "metadata": {
    "collapsed": false,
    "pycharm": {
     "name": "#%%\n",
     "is_executing": false
    }
   }
  },
  {
   "cell_type": "code",
   "execution_count": 19,
   "outputs": [
    {
     "data": {
      "text/plain": "array([[1. , 5.1, 3.5, 1.4, 0.2],\n       [1. , 4.9, 3. , 1.4, 0.2],\n       [1. , 4.7, 3.2, 1.3, 0.2],\n       [1. , 4.6, 3.1, 1.5, 0.2],\n       [1. , 5. , 3.6, 1.4, 0.2],\n       [1. , 5.4, 3.9, 1.7, 0.4],\n       [1. , 4.6, 3.4, 1.4, 0.3],\n       [1. , 5. , 3.4, 1.5, 0.2],\n       [1. , 4.4, 2.9, 1.4, 0.2],\n       [1. , 4.9, 3.1, 1.5, 0.1],\n       [1. , 5.4, 3.7, 1.5, 0.2],\n       [1. , 4.8, 3.4, 1.6, 0.2],\n       [1. , 4.8, 3. , 1.4, 0.1],\n       [1. , 4.3, 3. , 1.1, 0.1],\n       [1. , 5.8, 4. , 1.2, 0.2],\n       [1. , 5.7, 4.4, 1.5, 0.4],\n       [1. , 5.4, 3.9, 1.3, 0.4],\n       [1. , 5.1, 3.5, 1.4, 0.3],\n       [1. , 5.7, 3.8, 1.7, 0.3],\n       [1. , 5.1, 3.8, 1.5, 0.3],\n       [1. , 5.4, 3.4, 1.7, 0.2],\n       [1. , 5.1, 3.7, 1.5, 0.4],\n       [1. , 4.6, 3.6, 1. , 0.2],\n       [1. , 5.1, 3.3, 1.7, 0.5],\n       [1. , 4.8, 3.4, 1.9, 0.2],\n       [1. , 5. , 3. , 1.6, 0.2],\n       [1. , 5. , 3.4, 1.6, 0.4],\n       [1. , 5.2, 3.5, 1.5, 0.2],\n       [1. , 5.2, 3.4, 1.4, 0.2],\n       [1. , 4.7, 3.2, 1.6, 0.2],\n       [1. , 4.8, 3.1, 1.6, 0.2],\n       [1. , 5.4, 3.4, 1.5, 0.4],\n       [1. , 5.2, 4.1, 1.5, 0.1],\n       [1. , 5.5, 4.2, 1.4, 0.2],\n       [1. , 4.9, 3.1, 1.5, 0.2],\n       [1. , 5. , 3.2, 1.2, 0.2],\n       [1. , 5.5, 3.5, 1.3, 0.2],\n       [1. , 4.9, 3.6, 1.4, 0.1],\n       [1. , 4.4, 3. , 1.3, 0.2],\n       [1. , 5.1, 3.4, 1.5, 0.2],\n       [1. , 5. , 3.5, 1.3, 0.3],\n       [1. , 4.5, 2.3, 1.3, 0.3],\n       [1. , 4.4, 3.2, 1.3, 0.2],\n       [1. , 5. , 3.5, 1.6, 0.6],\n       [1. , 5.1, 3.8, 1.9, 0.4],\n       [1. , 4.8, 3. , 1.4, 0.3],\n       [1. , 5.1, 3.8, 1.6, 0.2],\n       [1. , 4.6, 3.2, 1.4, 0.2],\n       [1. , 5.3, 3.7, 1.5, 0.2],\n       [1. , 5. , 3.3, 1.4, 0.2],\n       [1. , 7. , 3.2, 4.7, 1.4],\n       [1. , 6.4, 3.2, 4.5, 1.5],\n       [1. , 6.9, 3.1, 4.9, 1.5],\n       [1. , 5.5, 2.3, 4. , 1.3],\n       [1. , 6.5, 2.8, 4.6, 1.5],\n       [1. , 5.7, 2.8, 4.5, 1.3],\n       [1. , 6.3, 3.3, 4.7, 1.6],\n       [1. , 4.9, 2.4, 3.3, 1. ],\n       [1. , 6.6, 2.9, 4.6, 1.3],\n       [1. , 5.2, 2.7, 3.9, 1.4],\n       [1. , 5. , 2. , 3.5, 1. ],\n       [1. , 5.9, 3. , 4.2, 1.5],\n       [1. , 6. , 2.2, 4. , 1. ],\n       [1. , 6.1, 2.9, 4.7, 1.4],\n       [1. , 5.6, 2.9, 3.6, 1.3],\n       [1. , 6.7, 3.1, 4.4, 1.4],\n       [1. , 5.6, 3. , 4.5, 1.5],\n       [1. , 5.8, 2.7, 4.1, 1. ],\n       [1. , 6.2, 2.2, 4.5, 1.5],\n       [1. , 5.6, 2.5, 3.9, 1.1],\n       [1. , 5.9, 3.2, 4.8, 1.8],\n       [1. , 6.1, 2.8, 4. , 1.3],\n       [1. , 6.3, 2.5, 4.9, 1.5],\n       [1. , 6.1, 2.8, 4.7, 1.2],\n       [1. , 6.4, 2.9, 4.3, 1.3],\n       [1. , 6.6, 3. , 4.4, 1.4],\n       [1. , 6.8, 2.8, 4.8, 1.4],\n       [1. , 6.7, 3. , 5. , 1.7],\n       [1. , 6. , 2.9, 4.5, 1.5],\n       [1. , 5.7, 2.6, 3.5, 1. ],\n       [1. , 5.5, 2.4, 3.8, 1.1],\n       [1. , 5.5, 2.4, 3.7, 1. ],\n       [1. , 5.8, 2.7, 3.9, 1.2],\n       [1. , 6. , 2.7, 5.1, 1.6],\n       [1. , 5.4, 3. , 4.5, 1.5],\n       [1. , 6. , 3.4, 4.5, 1.6],\n       [1. , 6.7, 3.1, 4.7, 1.5],\n       [1. , 6.3, 2.3, 4.4, 1.3],\n       [1. , 5.6, 3. , 4.1, 1.3],\n       [1. , 5.5, 2.5, 4. , 1.3],\n       [1. , 5.5, 2.6, 4.4, 1.2],\n       [1. , 6.1, 3. , 4.6, 1.4],\n       [1. , 5.8, 2.6, 4. , 1.2],\n       [1. , 5. , 2.3, 3.3, 1. ],\n       [1. , 5.6, 2.7, 4.2, 1.3],\n       [1. , 5.7, 3. , 4.2, 1.2],\n       [1. , 5.7, 2.9, 4.2, 1.3],\n       [1. , 6.2, 2.9, 4.3, 1.3],\n       [1. , 5.1, 2.5, 3. , 1.1],\n       [1. , 5.7, 2.8, 4.1, 1.3],\n       [1. , 6.3, 3.3, 6. , 2.5],\n       [1. , 5.8, 2.7, 5.1, 1.9],\n       [1. , 7.1, 3. , 5.9, 2.1],\n       [1. , 6.3, 2.9, 5.6, 1.8],\n       [1. , 6.5, 3. , 5.8, 2.2],\n       [1. , 7.6, 3. , 6.6, 2.1],\n       [1. , 4.9, 2.5, 4.5, 1.7],\n       [1. , 7.3, 2.9, 6.3, 1.8],\n       [1. , 6.7, 2.5, 5.8, 1.8],\n       [1. , 7.2, 3.6, 6.1, 2.5],\n       [1. , 6.5, 3.2, 5.1, 2. ],\n       [1. , 6.4, 2.7, 5.3, 1.9],\n       [1. , 6.8, 3. , 5.5, 2.1],\n       [1. , 5.7, 2.5, 5. , 2. ],\n       [1. , 5.8, 2.8, 5.1, 2.4],\n       [1. , 6.4, 3.2, 5.3, 2.3],\n       [1. , 6.5, 3. , 5.5, 1.8],\n       [1. , 7.7, 3.8, 6.7, 2.2],\n       [1. , 7.7, 2.6, 6.9, 2.3],\n       [1. , 6. , 2.2, 5. , 1.5],\n       [1. , 6.9, 3.2, 5.7, 2.3],\n       [1. , 5.6, 2.8, 4.9, 2. ],\n       [1. , 7.7, 2.8, 6.7, 2. ],\n       [1. , 6.3, 2.7, 4.9, 1.8],\n       [1. , 6.7, 3.3, 5.7, 2.1],\n       [1. , 7.2, 3.2, 6. , 1.8],\n       [1. , 6.2, 2.8, 4.8, 1.8],\n       [1. , 6.1, 3. , 4.9, 1.8],\n       [1. , 6.4, 2.8, 5.6, 2.1],\n       [1. , 7.2, 3. , 5.8, 1.6],\n       [1. , 7.4, 2.8, 6.1, 1.9],\n       [1. , 7.9, 3.8, 6.4, 2. ],\n       [1. , 6.4, 2.8, 5.6, 2.2],\n       [1. , 6.3, 2.8, 5.1, 1.5],\n       [1. , 6.1, 2.6, 5.6, 1.4],\n       [1. , 7.7, 3. , 6.1, 2.3],\n       [1. , 6.3, 3.4, 5.6, 2.4],\n       [1. , 6.4, 3.1, 5.5, 1.8],\n       [1. , 6. , 3. , 4.8, 1.8],\n       [1. , 6.9, 3.1, 5.4, 2.1],\n       [1. , 6.7, 3.1, 5.6, 2.4],\n       [1. , 6.9, 3.1, 5.1, 2.3],\n       [1. , 5.8, 2.7, 5.1, 1.9],\n       [1. , 6.8, 3.2, 5.9, 2.3],\n       [1. , 6.7, 3.3, 5.7, 2.5],\n       [1. , 6.7, 3. , 5.2, 2.3],\n       [1. , 6.3, 2.5, 5. , 1.9],\n       [1. , 6.5, 3. , 5.2, 2. ],\n       [1. , 6.2, 3.4, 5.4, 2.3],\n       [1. , 5.9, 3. , 5.1, 1.8]])"
     },
     "metadata": {},
     "output_type": "execute_result",
     "execution_count": 19
    }
   ],
   "source": [
    "X_train"
   ],
   "metadata": {
    "collapsed": false,
    "pycharm": {
     "name": "#%%\n",
     "is_executing": false
    }
   }
  },
  {
   "cell_type": "code",
   "execution_count": 20,
   "outputs": [
    {
     "name": "stdout",
     "text": [
      "0\n1\n2\n3\n4\n5\n6\n7\n8\n9\n10\n11\n12\n13\n14\n15\n16\n17\n18\n19\n20\n21\n22\n23\n24\n25\n26\n27\n28\n29\n30\n31\n32\n33\n34\n35\n36\n37\n38\n39\n40\n41\n42\n43\n44\n45\n46\n47\n48\n49\n50\n51\n52\n53\n54\n55\n56\n57\n58\n59\n60\n61\n62\n63\n64\n65\n66\n67\n68\n69\n70\n71\n72\n73\n74\n75\n76\n77\n78\n79\n80\n81\n82\n83\n84\n85\n86\n87\n88\n89\n90\n91\n92\n93\n94\n95\n96\n97\n98\n99\n100\n101\n102\n103\n104\n105\n106\n107\n108\n109\n110\n111\n112\n113\n114\n115\n116\n117\n118\n119\n120\n121\n122\n123\n124\n125\n126\n127\n128\n129\n130\n131\n132\n133\n134\n135\n136\n137\n138\n139\n140\n141\n142\n143\n144\n145\n146\n147\n148\n149\n"
     ],
     "output_type": "stream"
    }
   ],
   "source": [
    "for index, data in enumerate(X_train):\n",
    "    print(index)"
   ],
   "metadata": {
    "collapsed": false,
    "pycharm": {
     "name": "#%%\n",
     "is_executing": false
    }
   }
  },
  {
   "cell_type": "code",
   "execution_count": 21,
   "outputs": [
    {
     "data": {
      "text/plain": "1.0"
     },
     "metadata": {},
     "output_type": "execute_result",
     "execution_count": 21
    }
   ],
   "source": [
    "np.sign(1.4)"
   ],
   "metadata": {
    "collapsed": false,
    "pycharm": {
     "name": "#%%\n",
     "is_executing": false
    }
   }
  },
  {
   "cell_type": "code",
   "execution_count": 22,
   "outputs": [
    {
     "data": {
      "text/plain": "150"
     },
     "metadata": {},
     "output_type": "execute_result",
     "execution_count": 22
    }
   ],
   "source": [
    "len(X_train)"
   ],
   "metadata": {
    "collapsed": false,
    "pycharm": {
     "name": "#%%\n",
     "is_executing": false
    }
   }
  }
 ],
 "metadata": {
  "kernelspec": {
   "display_name": "Python 3",
   "language": "python",
   "name": "python3"
  },
  "language_info": {
   "codemirror_mode": {
    "name": "ipython",
    "version": 2
   },
   "file_extension": ".py",
   "mimetype": "text/x-python",
   "name": "python",
   "nbconvert_exporter": "python",
   "pygments_lexer": "ipython2",
   "version": "2.7.6"
  },
  "pycharm": {
   "stem_cell": {
    "cell_type": "raw",
    "source": [],
    "metadata": {
     "collapsed": false
    }
   }
  }
 },
 "nbformat": 4,
 "nbformat_minor": 0
}