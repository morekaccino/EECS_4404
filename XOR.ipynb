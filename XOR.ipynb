{
 "cells": [
  {
   "cell_type": "code",
   "execution_count": 290,
   "metadata": {
    "collapsed": true,
    "pycharm": {
     "is_executing": false
    }
   },
   "outputs": [
    {
     "name": "stdout",
     "text": [
      "imported\n"
     ],
     "output_type": "stream"
    }
   ],
   "source": [
    "from sklearn.neural_network import MLPClassifier\n",
    "import numpy as np\n",
    "import pandas as pd\n",
    "import matplotlib.pyplot as plt\n",
    "import seaborn as sns\n",
    "print('imported')"
   ]
  },
  {
   "cell_type": "code",
   "execution_count": 7,
   "outputs": [
    {
     "data": {
      "text/plain": "   a  b  result\n0  1  1       0\n1  1  0       1\n2  0  1       1\n3  0  0       0",
      "text/html": "<div>\n<style scoped>\n    .dataframe tbody tr th:only-of-type {\n        vertical-align: middle;\n    }\n\n    .dataframe tbody tr th {\n        vertical-align: top;\n    }\n\n    .dataframe thead th {\n        text-align: right;\n    }\n</style>\n<table border=\"1\" class=\"dataframe\">\n  <thead>\n    <tr style=\"text-align: right;\">\n      <th></th>\n      <th>a</th>\n      <th>b</th>\n      <th>result</th>\n    </tr>\n  </thead>\n  <tbody>\n    <tr>\n      <th>0</th>\n      <td>1</td>\n      <td>1</td>\n      <td>0</td>\n    </tr>\n    <tr>\n      <th>1</th>\n      <td>1</td>\n      <td>0</td>\n      <td>1</td>\n    </tr>\n    <tr>\n      <th>2</th>\n      <td>0</td>\n      <td>1</td>\n      <td>1</td>\n    </tr>\n    <tr>\n      <th>3</th>\n      <td>0</td>\n      <td>0</td>\n      <td>0</td>\n    </tr>\n  </tbody>\n</table>\n</div>"
     },
     "metadata": {},
     "output_type": "execute_result",
     "execution_count": 7
    }
   ],
   "source": [
    "data = pd.DataFrame(\n",
    "    [\n",
    "        {'a':1,'b':1,'result':0},\n",
    "        {'a':1,'b':0,'result':1},\n",
    "        {'a':0,'b':1,'result':1},\n",
    "        {'a':0,'b':0,'result':0},\n",
    "    ]\n",
    ")\n",
    "data"
   ],
   "metadata": {
    "collapsed": false,
    "pycharm": {
     "name": "#%%\n",
     "is_executing": false
    }
   }
  },
  {
   "cell_type": "code",
   "execution_count": 58,
   "outputs": [],
   "source": [
    "X = pd.DataFrame()\n",
    "X['a'] = data['a']\n",
    "X['b'] = data['b']\n",
    "\n",
    "Y = pd.DataFrame()\n",
    "Y = data['result']"
   ],
   "metadata": {
    "collapsed": false,
    "pycharm": {
     "name": "#%%\n",
     "is_executing": false
    }
   }
  },
  {
   "cell_type": "code",
   "execution_count": 301,
   "outputs": [
    {
     "data": {
      "text/plain": "MLPClassifier(activation='relu', alpha=0.016, batch_size='auto', beta_1=0.9,\n              beta_2=0.999, early_stopping=False, epsilon=1e-08,\n              hidden_layer_sizes=(4, 4), learning_rate='constant',\n              learning_rate_init=0.001, max_fun=15000, max_iter=10000,\n              momentum=0.9, n_iter_no_change=10, nesterovs_momentum=True,\n              power_t=0.5, random_state=None, shuffle=True, solver='adam',\n              tol=0.0001, validation_fraction=0.1, verbose=False,\n              warm_start=False)"
     },
     "metadata": {},
     "output_type": "execute_result",
     "execution_count": 301
    }
   ],
   "source": [
    "NN = MLPClassifier(hidden_layer_sizes=(4,4,),\n",
    "                   alpha=.016,\n",
    "                   max_iter=10000)\n",
    "NN.fit(X, Y)"
   ],
   "metadata": {
    "collapsed": false,
    "pycharm": {
     "name": "#%%\n",
     "is_executing": false
    }
   }
  },
  {
   "cell_type": "code",
   "execution_count": 302,
   "outputs": [
    {
     "name": "stdout",
     "text": [
      "[0 1 1 0]\n[array([[-1.01457251e-02, -1.71143394e+00, -1.06937927e-01,\n        -1.20551289e-50],\n       [-1.30404673e-06,  5.31744703e-01,  1.78771722e+00,\n        -8.87723513e-43]]), array([[ 2.24772760e-05, -4.99899814e-45,  4.40843962e-14,\n         3.06337410e-04],\n       [-9.85940412e-05, -1.71490746e+00,  6.17796311e-01,\n        -1.06441931e+00],\n       [ 2.78880750e-43,  1.54990525e+00,  7.11842317e-01,\n        -7.46654599e-01],\n       [ 1.17958042e-12, -1.19043819e-11, -3.73095394e-11,\n         5.52234900e-32]]), array([[ 9.39856078e-06],\n       [-1.65724053e+00],\n       [ 2.36331968e+00],\n       [ 1.97662108e+00]])]\n"
     ],
     "output_type": "stream"
    }
   ],
   "source": [
    "prediction = NN.predict(X)\n",
    "print(prediction)\n",
    "print(NN.coefs_)\n"
   ],
   "metadata": {
    "collapsed": false,
    "pycharm": {
     "name": "#%%\n",
     "is_executing": false
    }
   }
  }
 ],
 "metadata": {
  "kernelspec": {
   "display_name": "Python 3",
   "language": "python",
   "name": "python3"
  },
  "language_info": {
   "codemirror_mode": {
    "name": "ipython",
    "version": 2
   },
   "file_extension": ".py",
   "mimetype": "text/x-python",
   "name": "python",
   "nbconvert_exporter": "python",
   "pygments_lexer": "ipython2",
   "version": "2.7.6"
  },
  "pycharm": {
   "stem_cell": {
    "cell_type": "raw",
    "source": [],
    "metadata": {
     "collapsed": false
    }
   }
  }
 },
 "nbformat": 4,
 "nbformat_minor": 0
}
