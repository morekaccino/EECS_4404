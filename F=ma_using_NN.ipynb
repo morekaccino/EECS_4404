{
  "nbformat": 4,
  "nbformat_minor": 0,
  "metadata": {
    "colab": {
      "name": "F=ma using NN.ipynb",
      "provenance": [],
      "authorship_tag": "ABX9TyO7Ovqp/qiQIJS2J3LVh1Ww",
      "include_colab_link": true
    },
    "kernelspec": {
      "name": "python3",
      "display_name": "Python 3"
    },
    "accelerator": "GPU"
  },
  "cells": [
    {
      "cell_type": "markdown",
      "metadata": {
        "id": "view-in-github",
        "colab_type": "text"
      },
      "source": [
        "<a href=\"https://colab.research.google.com/github/mowhamadrexa/EECS4404/blob/master/F%3Dma_using_NN.ipynb\" target=\"_parent\"><img src=\"https://colab.research.google.com/assets/colab-badge.svg\" alt=\"Open In Colab\"/></a>"
      ]
    },
    {
      "cell_type": "markdown",
      "metadata": {
        "id": "bOoabrK2eJCN",
        "colab_type": "text"
      },
      "source": [
        "**The problem**<br>\n",
        "\n",
        "\n",
        "1.   What is our input?\n",
        "\n",
        "2.   What is our output?\n",
        "\n",
        "3.   What learning model?\n",
        "\n"
      ]
    },
    {
      "cell_type": "code",
      "metadata": {
        "id": "a4aSRTZJe957",
        "colab_type": "code",
        "colab": {}
      },
      "source": [
        "# Case5.m :\n",
        "\n",
        "MATPOWER Version 7.0, 20-Jun-2019 -- AC Power Flow (Newton)\n",
        "\n",
        "Newton's method power flow (power balance, polar) converged in 3 iterations.\n",
        "\n",
        "Converged in 0.59 seconds\n",
        "================================================================================\n",
        "|     System Summary                                                           |\n",
        "================================================================================\n",
        "\n",
        "How many?                How much?              P (MW)            Q (MVAr)\n",
        "---------------------    -------------------  -------------  -----------------\n",
        "Buses              5     Total Gen Capacity    1530.0       -1147.5 to 1147.5\n",
        "Generators         5     On-line Capacity      1530.0       -1147.5 to 1147.5\n",
        "Committed Gens     5     Generation (actual)   1005.0             371.3\n",
        "Loads              3     Load                  1000.0             328.7\n",
        "  Fixed            3       Fixed               1000.0             328.7\n",
        "  Dispatchable     0       Dispatchable          -0.0 of -0.0      -0.0\n",
        "Shunts             0     Shunt (inj)             -0.0               0.0\n",
        "Branches           6     Losses (I^2 * Z)         5.03             50.27\n",
        "Transformers       0     Branch Charging (inj)     -                7.7\n",
        "Inter-ties         0     Total Inter-tie Flow     0.0               0.0\n",
        "Areas              1\n",
        "\n",
        "                          Minimum                      Maximum\n",
        "                 -------------------------  --------------------------------\n",
        "Voltage Magnitude   0.989 p.u. @ bus 2          1.000 p.u. @ bus 4   \n",
        "Voltage Angle      -0.76 deg   @ bus 2          4.11 deg   @ bus 5   \n",
        "P Losses (I^2*R)             -                  1.77 MW    @ line 1-2\n",
        "Q Losses (I^2*X)             -                 17.67 MVAr  @ line 1-2\n",
        "\n",
        "================================================================================\n",
        "|     Bus Data                                                                 |\n",
        "================================================================================\n",
        " Bus      Voltage          Generation             Load        \n",
        "  #   Mag(pu) Ang(deg)   P (MW)   Q (MVAr)   P (MW)   Q (MVAr)\n",
        "----- ------- --------  --------  --------  --------  --------\n",
        "    1  1.000    3.273    210.00     30.73       -         -   \n",
        "    2  0.989   -0.759       -         -      300.00     98.61 \n",
        "    3  1.000   -0.492    323.49    194.65    300.00     98.61 \n",
        "    4  1.000    0.000*     5.03    184.12    400.00    131.47 \n",
        "    5  1.000    4.112    466.51    -38.21       -         -   \n",
        "                        --------  --------  --------  --------\n",
        "               Total:   1005.03    371.29   1000.00    328.69\n",
        "\n",
        "================================================================================\n",
        "|     Branch Data                                                              |\n",
        "================================================================================\n",
        "Brnch   From   To    From Bus Injection   To Bus Injection     Loss (I^2 * Z)  \n",
        "  #     Bus    Bus    P (MW)   Q (MVAr)   P (MW)   Q (MVAr)   P (MW)   Q (MVAr)\n",
        "-----  -----  -----  --------  --------  --------  --------  --------  --------\n",
        "   1      1      2    249.77     21.60   -248.01     -4.64     1.767     17.67\n",
        "   2      1      4    186.50    -13.61   -185.44     23.58     1.063     10.63\n",
        "   3      1      5   -226.27     22.74    226.60    -22.55     0.331      3.31\n",
        "   4      2      3    -51.99    -93.97     52.12     93.39     0.125      1.25\n",
        "   5      3      4    -28.63      2.65     28.65     -3.08     0.025      0.25\n",
        "   6      4      5   -238.19     32.15    239.91    -15.66     1.716     17.16\n",
        "                                                             --------  --------\n",
        "                                                    Total:     5.027     50.27"
      ],
      "execution_count": 0,
      "outputs": []
    },
    {
      "cell_type": "markdown",
      "metadata": {
        "id": "LeKfDJM6VkRl",
        "colab_type": "text"
      },
      "source": [
        "**Selecting a proper learning model**<br>\n",
        "I believe after all, these numbers are the result of some formulas. So I should look for a model that can simulate formulas. My first attemp is using neural network.<br>\n",
        "I will try to simulate <code>F = m . a</code>, simply because it is the easiest physics formula I have come across.<br>\n",
        "Just to make it even simpler, I use logarithms:<br>\n",
        "<code>log(F) = log(m) + log(a)</code><br>\n",
        "Using this method I can avoid multiplication, which is more complex than summation."
      ]
    },
    {
      "cell_type": "code",
      "metadata": {
        "id": "td7G3w-mUFeN",
        "colab_type": "code",
        "colab": {}
      },
      "source": [
        "# importings\n",
        "import numpy as np\n",
        "import pandas as pd\n",
        "from keras import Sequential\n",
        "from keras.layers import Dense\n",
        "from keras.utils import to_categorical\n",
        "from random import randint\n",
        "from math import log\n",
        "import keras.backend as K\n",
        "from keras.layers.core import Activation\n",
        "from math import e"
      ],
      "execution_count": 0,
      "outputs": []
    },
    {
      "cell_type": "code",
      "metadata": {
        "id": "wIq0SmnzUrma",
        "colab_type": "code",
        "colab": {}
      },
      "source": [
        "def populate(N, coef = 100, offset = 0):\n",
        "  \n",
        "  # Slow method\n",
        "  # # X = np.array([])\n",
        "  # # Y = np.array([])\n",
        "  # # for i in range(dimension):\n",
        "  # #   m = randint(0,1000) / 10\n",
        "  # #   a = randint(0,1000) / 10\n",
        "  # #   f = m * a\n",
        "  # #   x = np.array([m, a])\n",
        "  # #   y = np.array([f])\n",
        "  # #   # appending\n",
        "  # #   X = np.append(X, x)\n",
        "  # #   Y = np.append(Y, y)\n",
        "  # # return X.reshape(dimension, 2), Y.reshape(dimension, 1)\n",
        "\n",
        "  # Much faster way:\n",
        "  X = np.random.rand(N, 2) * coef + offset\n",
        "  Y = np.prod(X, axis=1)\n",
        "  return X, Y"
      ],
      "execution_count": 0,
      "outputs": []
    },
    {
      "cell_type": "code",
      "metadata": {
        "id": "D33HjBNLWmnT",
        "colab_type": "code",
        "outputId": "97721d23-9fb7-479f-8fc2-60051addc0a8",
        "colab": {
          "base_uri": "https://localhost:8080/",
          "height": 51
        }
      },
      "source": [
        "X, Y = populate(100000)\n",
        "\n",
        "print('X:', X.shape)\n",
        "print('Y:', Y.shape)"
      ],
      "execution_count": 63,
      "outputs": [
        {
          "output_type": "stream",
          "text": [
            "X: (100000, 2)\n",
            "Y: (100000,)\n"
          ],
          "name": "stdout"
        }
      ]
    },
    {
      "cell_type": "code",
      "metadata": {
        "id": "bigNAFoW8wq2",
        "colab_type": "code",
        "colab": {}
      },
      "source": [
        "def activation_log(x):\n",
        "  x = K.log(x)\n",
        "  return x\n",
        "\n",
        "def activation_pow(x):\n",
        "  x = K.pow(e, x)\n",
        "  return x"
      ],
      "execution_count": 0,
      "outputs": []
    },
    {
      "cell_type": "code",
      "metadata": {
        "id": "m3pbojnpXIbm",
        "colab_type": "code",
        "colab": {}
      },
      "source": [
        "model = Sequential()\n",
        "model.add(Activation(activation_log))\n",
        "model.add(Dense(8, activation='relu', input_dim=2))\n",
        "model.add(Dense(8, activation='relu'))\n",
        "model.add(Dense(8, activation='relu'))\n",
        "model.add(Dense(1, activation=activation_pow))"
      ],
      "execution_count": 0,
      "outputs": []
    },
    {
      "cell_type": "code",
      "metadata": {
        "id": "06cmqgjpXiZv",
        "colab_type": "code",
        "colab": {}
      },
      "source": [
        "model.compile(optimizer='adam', loss='mean_absolute_error')"
      ],
      "execution_count": 0,
      "outputs": []
    },
    {
      "cell_type": "code",
      "metadata": {
        "id": "u6r68sbjZe8d",
        "colab_type": "code",
        "outputId": "362227f2-1b59-492c-e1e1-b8c2f7f36dfa",
        "colab": {
          "base_uri": "https://localhost:8080/",
          "height": 714
        }
      },
      "source": [
        "model.fit(x=X, y=Y, epochs=20)"
      ],
      "execution_count": 67,
      "outputs": [
        {
          "output_type": "stream",
          "text": [
            "Epoch 1/20\n",
            "100000/100000 [==============================] - 13s 125us/step - loss: 217.4472\n",
            "Epoch 2/20\n",
            "100000/100000 [==============================] - 12s 122us/step - loss: 27.7796\n",
            "Epoch 3/20\n",
            "100000/100000 [==============================] - 13s 129us/step - loss: 26.2824\n",
            "Epoch 4/20\n",
            "100000/100000 [==============================] - 12s 124us/step - loss: 24.3827\n",
            "Epoch 5/20\n",
            "100000/100000 [==============================] - 12s 123us/step - loss: 24.2845\n",
            "Epoch 6/20\n",
            "100000/100000 [==============================] - 12s 123us/step - loss: 23.1500\n",
            "Epoch 7/20\n",
            "100000/100000 [==============================] - 12s 122us/step - loss: 22.8335\n",
            "Epoch 8/20\n",
            "100000/100000 [==============================] - 12s 123us/step - loss: 21.9608\n",
            "Epoch 9/20\n",
            "100000/100000 [==============================] - 12s 123us/step - loss: 20.7782\n",
            "Epoch 10/20\n",
            "100000/100000 [==============================] - 12s 123us/step - loss: 25.1961\n",
            "Epoch 11/20\n",
            "100000/100000 [==============================] - 12s 122us/step - loss: 25.0899\n",
            "Epoch 12/20\n",
            "100000/100000 [==============================] - 12s 123us/step - loss: 26.9815\n",
            "Epoch 13/20\n",
            "100000/100000 [==============================] - 12s 124us/step - loss: 25.4435\n",
            "Epoch 14/20\n",
            "100000/100000 [==============================] - 12s 124us/step - loss: 26.9368\n",
            "Epoch 15/20\n",
            "100000/100000 [==============================] - 12s 123us/step - loss: 24.5336\n",
            "Epoch 16/20\n",
            "100000/100000 [==============================] - 12s 124us/step - loss: 26.5374\n",
            "Epoch 17/20\n",
            "100000/100000 [==============================] - 12s 122us/step - loss: 24.1149\n",
            "Epoch 18/20\n",
            "100000/100000 [==============================] - 12s 123us/step - loss: 23.2994\n",
            "Epoch 19/20\n",
            "100000/100000 [==============================] - 12s 122us/step - loss: 23.3941\n",
            "Epoch 20/20\n",
            "100000/100000 [==============================] - 12s 123us/step - loss: 23.3795\n"
          ],
          "name": "stdout"
        },
        {
          "output_type": "execute_result",
          "data": {
            "text/plain": [
              "<keras.callbacks.callbacks.History at 0x7ff602598e10>"
            ]
          },
          "metadata": {
            "tags": []
          },
          "execution_count": 67
        }
      ]
    },
    {
      "cell_type": "code",
      "metadata": {
        "id": "RUTDjqtBKUmy",
        "colab_type": "code",
        "colab": {}
      },
      "source": [
        "# Test dataset within [0, 100]\n",
        "X_test, Y_test = populate(100)"
      ],
      "execution_count": 0,
      "outputs": []
    },
    {
      "cell_type": "code",
      "metadata": {
        "id": "p6Lls4l5KiA8",
        "colab_type": "code",
        "colab": {
          "base_uri": "https://localhost:8080/",
          "height": 51
        },
        "outputId": "4ad6d354-20c0-46f6-ec81-ca5e418bafde"
      },
      "source": [
        "# Evaluation for [0, 100] range\n",
        "model.evaluate(X_test, Y_test)"
      ],
      "execution_count": 69,
      "outputs": [
        {
          "output_type": "stream",
          "text": [
            "100/100 [==============================] - 0s 244us/step\n"
          ],
          "name": "stdout"
        },
        {
          "output_type": "execute_result",
          "data": {
            "text/plain": [
              "21.044326934814453"
            ]
          },
          "metadata": {
            "tags": []
          },
          "execution_count": 69
        }
      ]
    },
    {
      "cell_type": "code",
      "metadata": {
        "id": "m0w9AxTFQ4Ye",
        "colab_type": "code",
        "colab": {}
      },
      "source": [
        "# Test dataset outside of [0, 100]\n",
        "X_test, Y_test = populate(100, coef=100, offset=100)"
      ],
      "execution_count": 0,
      "outputs": []
    },
    {
      "cell_type": "code",
      "metadata": {
        "id": "pXZ1TEI6SFch",
        "colab_type": "code",
        "colab": {
          "base_uri": "https://localhost:8080/",
          "height": 51
        },
        "outputId": "d7d35ade-9732-405e-b692-deef6a39b95c"
      },
      "source": [
        "# Evaluation for outside of [0, 100]\n",
        "model.evaluate(X_test, Y_test)"
      ],
      "execution_count": 71,
      "outputs": [
        {
          "output_type": "stream",
          "text": [
            "100/100 [==============================] - 0s 87us/step\n"
          ],
          "name": "stdout"
        },
        {
          "output_type": "execute_result",
          "data": {
            "text/plain": [
              "222.016787109375"
            ]
          },
          "metadata": {
            "tags": []
          },
          "execution_count": 71
        }
      ]
    },
    {
      "cell_type": "code",
      "metadata": {
        "id": "FheN9-YECUUZ",
        "colab_type": "code",
        "colab": {}
      },
      "source": [
        "model.save(filepath='model.weights')"
      ],
      "execution_count": 0,
      "outputs": []
    },
    {
      "cell_type": "markdown",
      "metadata": {
        "id": "BAl33SJOdMHl",
        "colab_type": "text"
      },
      "source": [
        "As it can be seen, our model doesn't perform good outside of our training data. So we should look for better options."
      ]
    }
  ]
}