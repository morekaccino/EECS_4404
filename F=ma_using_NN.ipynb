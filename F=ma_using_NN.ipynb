{
  "nbformat": 4,
  "nbformat_minor": 0,
  "metadata": {
    "colab": {
      "name": "F=ma using NN.ipynb",
      "provenance": [],
      "authorship_tag": "ABX9TyPc0d4v0hiLm2BJI+ulRlwY",
      "include_colab_link": true
    },
    "kernelspec": {
      "name": "python3",
      "display_name": "Python 3"
    },
    "accelerator": "GPU"
  },
  "cells": [
    {
      "cell_type": "markdown",
      "metadata": {
        "id": "view-in-github",
        "colab_type": "text"
      },
      "source": [
        "<a href=\"https://colab.research.google.com/github/mowhamadrexa/EECS4404/blob/master/F%3Dma_using_NN.ipynb\" target=\"_parent\"><img src=\"https://colab.research.google.com/assets/colab-badge.svg\" alt=\"Open In Colab\"/></a>"
      ]
    },
    {
      "cell_type": "code",
      "metadata": {
        "id": "td7G3w-mUFeN",
        "colab_type": "code",
        "colab": {
          "base_uri": "https://localhost:8080/",
          "height": 34
        },
        "outputId": "f6f8a3c2-069f-42f2-9b10-97cdaebfe1a7"
      },
      "source": [
        "# importings\n",
        "import numpy as np\n",
        "import pandas as pd\n",
        "from keras import Sequential\n",
        "from keras.layers import Dense\n",
        "from keras.utils import to_categorical\n",
        "from random import randint\n",
        "from math import log\n",
        "import keras.backend as K\n",
        "from keras.layers.core import Activation"
      ],
      "execution_count": 1,
      "outputs": [
        {
          "output_type": "stream",
          "text": [
            "Using TensorFlow backend.\n"
          ],
          "name": "stderr"
        }
      ]
    },
    {
      "cell_type": "code",
      "metadata": {
        "id": "wIq0SmnzUrma",
        "colab_type": "code",
        "colab": {}
      },
      "source": [
        "def populate(dimension):\n",
        "  # X = np.array([])\n",
        "  # Y = np.array([])\n",
        "  # for i in range(dimension):\n",
        "  #   m = randint(0,1000) / 10\n",
        "  #   a = randint(0,1000) / 10\n",
        "  #   f = m * a\n",
        "  #   x = np.array([m, a])\n",
        "  #   y = np.array([f])\n",
        "  #   # appending\n",
        "  #   X = np.append(X, x)\n",
        "  #   Y = np.append(Y, y)\n",
        "  # return X.reshape(dimension, 2), Y.reshape(dimension, 1)\n",
        "  X = np.random.rand(dimension, 2) * 100\n",
        "  Y = np.prod(X, axis=1)\n",
        "  return X, Y"
      ],
      "execution_count": 0,
      "outputs": []
    },
    {
      "cell_type": "code",
      "metadata": {
        "id": "D33HjBNLWmnT",
        "colab_type": "code",
        "outputId": "b71b6a7e-8bbc-4b50-d1ff-53dee594668d",
        "colab": {
          "base_uri": "https://localhost:8080/",
          "height": 51
        }
      },
      "source": [
        "X, Y = populate(1000000)\n",
        "# X, Y = np.log(X), np.log(Y)\n",
        "print('X:', X.shape)\n",
        "print('Y:', Y.shape)\n",
        "# print(X)\n",
        "# print(Y)"
      ],
      "execution_count": 3,
      "outputs": [
        {
          "output_type": "stream",
          "text": [
            "X: (1000000, 2)\n",
            "Y: (1000000,)\n"
          ],
          "name": "stdout"
        }
      ]
    },
    {
      "cell_type": "code",
      "metadata": {
        "id": "bigNAFoW8wq2",
        "colab_type": "code",
        "colab": {}
      },
      "source": [
        "def activation_log(x):\n",
        "  x = K.log(x)\n",
        "  return x\n",
        "\n",
        "def activation_squared(x):\n",
        "  x = K.square(x)\n",
        "  return x"
      ],
      "execution_count": 0,
      "outputs": []
    },
    {
      "cell_type": "code",
      "metadata": {
        "id": "m3pbojnpXIbm",
        "colab_type": "code",
        "colab": {}
      },
      "source": [
        "model = Sequential()\n",
        "model.add(Activation(activation_log))\n",
        "model.add(Dense(8, activation='relu', input_dim=2))\n",
        "model.add(Dense(8, activation='relu'))\n",
        "model.add(Dense(8, activation='relu'))\n",
        "model.add(Dense(1, activation=activation_squared))"
      ],
      "execution_count": 0,
      "outputs": []
    },
    {
      "cell_type": "code",
      "metadata": {
        "id": "06cmqgjpXiZv",
        "colab_type": "code",
        "colab": {}
      },
      "source": [
        "model.compile(optimizer='adam', loss='mean_absolute_error')"
      ],
      "execution_count": 0,
      "outputs": []
    },
    {
      "cell_type": "code",
      "metadata": {
        "id": "u6r68sbjZe8d",
        "colab_type": "code",
        "outputId": "16cd3425-1b1f-4a05-f0e4-f37872f4795d",
        "colab": {
          "base_uri": "https://localhost:8080/",
          "height": 374
        }
      },
      "source": [
        "model.fit(x=X, y=Y, epochs=10)"
      ],
      "execution_count": 7,
      "outputs": [
        {
          "output_type": "stream",
          "text": [
            "Epoch 1/10\n",
            "1000000/1000000 [==============================] - 121s 121us/step - loss: 137.8286\n",
            "Epoch 2/10\n",
            "1000000/1000000 [==============================] - 120s 120us/step - loss: 36.0827\n",
            "Epoch 3/10\n",
            "1000000/1000000 [==============================] - 119s 119us/step - loss: 31.0987\n",
            "Epoch 4/10\n",
            "1000000/1000000 [==============================] - 120s 120us/step - loss: 29.5924\n",
            "Epoch 5/10\n",
            "1000000/1000000 [==============================] - 120s 120us/step - loss: 28.1168\n",
            "Epoch 6/10\n",
            "1000000/1000000 [==============================] - 120s 120us/step - loss: 26.3613\n",
            "Epoch 7/10\n",
            "1000000/1000000 [==============================] - 121s 121us/step - loss: 24.2165\n",
            "Epoch 8/10\n",
            "1000000/1000000 [==============================] - 120s 120us/step - loss: 22.2441\n",
            "Epoch 9/10\n",
            "1000000/1000000 [==============================] - 119s 119us/step - loss: 20.4406\n",
            "Epoch 10/10\n",
            "1000000/1000000 [==============================] - 119s 119us/step - loss: 19.1330\n"
          ],
          "name": "stdout"
        },
        {
          "output_type": "execute_result",
          "data": {
            "text/plain": [
              "<keras.callbacks.callbacks.History at 0x7ff674fdf748>"
            ]
          },
          "metadata": {
            "tags": []
          },
          "execution_count": 7
        }
      ]
    },
    {
      "cell_type": "code",
      "metadata": {
        "id": "RUTDjqtBKUmy",
        "colab_type": "code",
        "colab": {}
      },
      "source": [
        "X_test, Y_test = populate(100)"
      ],
      "execution_count": 0,
      "outputs": []
    },
    {
      "cell_type": "code",
      "metadata": {
        "id": "p6Lls4l5KiA8",
        "colab_type": "code",
        "colab": {
          "base_uri": "https://localhost:8080/",
          "height": 51
        },
        "outputId": "235b60e2-6fbf-4fd9-e127-f2a62b90c100"
      },
      "source": [
        "model.evaluate(X_test, Y_test)"
      ],
      "execution_count": 20,
      "outputs": [
        {
          "output_type": "stream",
          "text": [
            "100/100 [==============================] - 0s 118us/step\n"
          ],
          "name": "stdout"
        },
        {
          "output_type": "execute_result",
          "data": {
            "text/plain": [
              "12.675360412597657"
            ]
          },
          "metadata": {
            "tags": []
          },
          "execution_count": 20
        }
      ]
    },
    {
      "cell_type": "code",
      "metadata": {
        "id": "8PV6uWlqadJM",
        "colab_type": "code",
        "outputId": "e96dcad8-8954-4b84-8e75-7da4c80476e0",
        "colab": {
          "base_uri": "https://localhost:8080/",
          "height": 34
        }
      },
      "source": [
        "prediction = model.predict([[[1, 1]]])\n",
        "prediction"
      ],
      "execution_count": 17,
      "outputs": [
        {
          "output_type": "execute_result",
          "data": {
            "text/plain": [
              "array([[21.443657]], dtype=float32)"
            ]
          },
          "metadata": {
            "tags": []
          },
          "execution_count": 17
        }
      ]
    },
    {
      "cell_type": "code",
      "metadata": {
        "id": "FheN9-YECUUZ",
        "colab_type": "code",
        "colab": {}
      },
      "source": [
        "model.save(filepath='model.weights')"
      ],
      "execution_count": 0,
      "outputs": []
    }
  ]
}