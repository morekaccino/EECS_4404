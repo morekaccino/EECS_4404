{
 "cells": [
  {
   "cell_type": "code",
   "execution_count": 1,
   "outputs": [],
   "source": [
    "import numpy as np"
   ],
   "metadata": {
    "collapsed": false,
    "pycharm": {
     "name": "#%%\n",
     "is_executing": false
    }
   }
  },
  {
   "cell_type": "code",
   "execution_count": 2,
   "metadata": {
    "collapsed": true,
    "pycharm": {
     "is_executing": false
    }
   },
   "outputs": [],
   "source": [
    "def activation(s):\n",
    "    return 0 if s <= 0 else s\n",
    "\n",
    "def derivativeActivation(s):\n",
    "    # return 0 if s <= 0 else 1\n",
    "    return (1 - tanh(s) ** 2)\n",
    "\n",
    "def outputf(s):\n",
    "    return (1) / ((1) + np.exp(-s))\n",
    "\n",
    "def derivativeOutput(s):\n",
    "    return (outputf(s)) * (1 - outputf(s))\n",
    "\n",
    "def errorf(x_L, y):\n",
    "    if y == 1:\n",
    "        return np.log(x_L)\n",
    "    else:\n",
    "        return -np.log(1 - x_L)\n",
    "    \n",
    "def tanh(s):\n",
    "    return np.tanh(s)"
   ]
  },
  {
   "cell_type": "code",
   "execution_count": 3,
   "outputs": [],
   "source": [
    "X = [1, 2]\n",
    "W = [\n",
    "    [[0.1,0.2],\n",
    "     [0.3,0.4]],\n",
    "    [[0.2],\n",
    "     [1],\n",
    "     [-3]],\n",
    "    [[1],\n",
    "     [2]]\n",
    "]"
   ],
   "metadata": {
    "collapsed": false,
    "pycharm": {
     "name": "#%%\n",
     "is_executing": false
    }
   }
  },
  {
   "cell_type": "code",
   "execution_count": 4,
   "outputs": [],
   "source": [
    "def forwardPropagation(x, weights):\n",
    "    Xl = np.array(x)\n",
    "    W = np.array(weights)\n",
    "    S = []\n",
    "    X = [x]\n",
    "    for index,l in enumerate(W):\n",
    "        wl = np.array(l)\n",
    "        sl = np.transpose(wl).dot(Xl)\n",
    "        Xl_before_activation = sl\n",
    "        if index != len(W) - 1:\n",
    "            activation_function = np.vectorize(tanh)\n",
    "            Xl = activation_function(Xl_before_activation)\n",
    "            Xl = np.insert(Xl, 0, 1, axis=0)\n",
    "        else:\n",
    "            output_function = np.vectorize(tanh)\n",
    "            Xl = output_function(Xl_before_activation)\n",
    "        X.append(Xl)\n",
    "        S.append(sl)\n",
    "    np.delete\n",
    "    return np.array(X),np.array(S)"
   ],
   "metadata": {
    "collapsed": false,
    "pycharm": {
     "name": "#%%\n",
     "is_executing": false
    }
   }
  },
  {
   "cell_type": "code",
   "execution_count": 5,
   "outputs": [
    {
     "name": "stdout",
     "text": [
      "[0.7 1. ]\n[-1.48041469]\n[-0.80309131]\n\n [array([0.7, 1. ]) array([-1.48041469]) array([-0.80309131])]\n"
     ],
     "output_type": "stream"
    }
   ],
   "source": [
    "x,s = forwardPropagation(X,W)\n",
    "for i in s:\n",
    "    print(i)\n",
    "print('\\n',s)"
   ],
   "metadata": {
    "collapsed": false,
    "pycharm": {
     "name": "#%%\n",
     "is_executing": false
    }
   }
  },
  {
   "cell_type": "code",
   "execution_count": 83,
   "outputs": [],
   "source": [
    "def backPropagation(X, y_n, s, weights):\n",
    "    delta = 0\n",
    "    g = []\n",
    "    W = np.array(weights)\n",
    "    X = np.array(X)\n",
    "    for layer, Xl in enumerate(reversed(X)):\n",
    "        if layer == 0:\n",
    "            delta = 2 * (Xl[0] - y_n) * derivativeActivation(s[-1][0])\n",
    "            g.append(np.array(delta))\n",
    "        elif layer != len(X) - 1:\n",
    "            Wl = np.array(weights[len(X) - layer - 1])\n",
    "            a = (g[layer - 1].dot(Wl.T)).T\n",
    "            g.append(a)\n",
    "            # print('gl-1',g[layer - 1])\n",
    "            # print('WlT',Wl.T)\n",
    "            # print(g[layer].shape, Wl.T.shape,'\\n')\n",
    "    return (g)"
   ],
   "metadata": {
    "collapsed": false,
    "pycharm": {
     "name": "#%%\n",
     "is_executing": false
    }
   }
  },
  {
   "cell_type": "code",
   "execution_count": 90,
   "outputs": [
    {
     "name": "stdout",
     "text": [
      "gl-1 -1.8548643739176334\nWlT [[1 2]]\n(2, 1) (1, 2) \n\ngl-1 [[-1.85486437]\n [-3.70972875]]\nWlT [[ 0.2  1.  -3. ]]\n(3, 2) (1, 3) \n\n[[-0.37097287 -0.74194575]\n [-1.85486437 -3.70972875]\n [ 5.56459312 11.12918624]]\n"
     ],
     "output_type": "stream"
    }
   ],
   "source": [
    "g = backPropagation(x, 1, s, W)\n",
    "print(g[2])"
   ],
   "metadata": {
    "collapsed": false,
    "pycharm": {
     "name": "#%%\n",
     "is_executing": false
    }
   }
  },
  {
   "cell_type": "code",
   "execution_count": 35,
   "outputs": [
    {
     "data": {
      "text/plain": "array([[ 4.,  8., 12.]])"
     },
     "metadata": {},
     "output_type": "execute_result",
     "execution_count": 35
    }
   ],
   "source": [
    "a = np.array([[1],[2],[3]])\n",
    "i = np.identity(3) * 4\n",
    "a.T.dot(i)"
   ],
   "metadata": {
    "collapsed": false,
    "pycharm": {
     "name": "#%%\n",
     "is_executing": false
    }
   }
  },
  {
   "cell_type": "code",
   "execution_count": 72,
   "outputs": [
    {
     "name": "stdout",
     "text": [
      "gl-1 -1.8548643739176334\nWlT [[1 2]]\n(2, 1) (1, 2) \n\ngl-1 [[-1.85486437]\n [-3.70972875]]\nWlT [[ 0.2  1.  -3. ]]\n(3, 2) (1, 3) \n\ngl-1 [[-0.37097287 -0.74194575]\n [-1.85486437 -3.70972875]\n [ 5.56459312 11.12918624]]\nWlT [[0.1 0.3]\n [0.2 0.4]]\n(2, 3) (2, 2) \n\n[[-1.85486437]\n [-3.70972875]] (2, 1)\n[[ 0.2]\n [ 1. ]\n [-3. ]] (3, 1)\n"
     ],
     "output_type": "stream"
    },
    {
     "traceback": [
      "\u001b[1;31m---------------------------------------------------------------------------\u001b[0m",
      "\u001b[1;31mValueError\u001b[0m                                Traceback (most recent call last)",
      "\u001b[1;32m<ipython-input-72-2fabd3199521>\u001b[0m in \u001b[0;36m<module>\u001b[1;34m\u001b[0m\n\u001b[0;32m      5\u001b[0m \u001b[0mprint\u001b[0m\u001b[1;33m(\u001b[0m\u001b[0mw\u001b[0m\u001b[1;33m,\u001b[0m \u001b[0mw\u001b[0m\u001b[1;33m.\u001b[0m\u001b[0mshape\u001b[0m\u001b[1;33m)\u001b[0m\u001b[1;33m\u001b[0m\u001b[1;33m\u001b[0m\u001b[0m\n\u001b[0;32m      6\u001b[0m \u001b[0mg\u001b[0m\u001b[1;33m[\u001b[0m\u001b[1;36m1\u001b[0m\u001b[1;33m]\u001b[0m \u001b[1;33m=\u001b[0m \u001b[0mnp\u001b[0m\u001b[1;33m.\u001b[0m\u001b[0mdelete\u001b[0m\u001b[1;33m(\u001b[0m\u001b[0mg\u001b[0m\u001b[1;33m[\u001b[0m\u001b[1;36m1\u001b[0m\u001b[1;33m]\u001b[0m\u001b[1;33m,\u001b[0m \u001b[1;36m0\u001b[0m\u001b[1;33m,\u001b[0m \u001b[1;36m0\u001b[0m\u001b[1;33m)\u001b[0m\u001b[1;33m\u001b[0m\u001b[1;33m\u001b[0m\u001b[0m\n\u001b[1;32m----> 7\u001b[1;33m \u001b[0mg\u001b[0m\u001b[1;33m[\u001b[0m\u001b[1;36m1\u001b[0m\u001b[1;33m]\u001b[0m\u001b[1;33m.\u001b[0m\u001b[0mdot\u001b[0m\u001b[1;33m(\u001b[0m\u001b[0mw\u001b[0m\u001b[1;33m)\u001b[0m\u001b[1;33m\u001b[0m\u001b[1;33m\u001b[0m\u001b[0m\n\u001b[0m",
      "\u001b[1;31mValueError\u001b[0m: shapes (1,1) and (3,1) not aligned: 1 (dim 1) != 3 (dim 0)"
     ],
     "ename": "ValueError",
     "evalue": "shapes (1,1) and (3,1) not aligned: 1 (dim 1) != 3 (dim 0)",
     "output_type": "error"
    }
   ],
   "source": [
    "g = backPropagation(x, 1, s, W)\n",
    "\n",
    "w = np.array(W[1])\n",
    "print(g[1], g[1].shape)\n",
    "print(w, w.shape)\n",
    "g[1] = np.delete(g[1], 0, 0)\n",
    "g[1].dot(w)"
   ],
   "metadata": {
    "collapsed": false,
    "pycharm": {
     "name": "#%%\n",
     "is_executing": false
    }
   }
  },
  {
   "cell_type": "code",
   "execution_count": 71,
   "outputs": [
    {
     "name": "stdout",
     "text": [
      "gl-1 -1.8548643739176334\nWlT [[1 2]]\n(2, 1) (1, 2) \n\ngl-1 [[-1.85486437]\n [-3.70972875]]\nWlT [[ 0.2  1.  -3. ]]\n(3, 2) (1, 3) \n\ngl-1 [[-0.37097287 -0.74194575]\n [-1.85486437 -3.70972875]\n [ 5.56459312 11.12918624]]\nWlT [[0.1 0.3]\n [0.2 0.4]]\n(2, 3) (2, 2) \n\n[[-0.37097287 -0.74194575]\n [-1.85486437 -3.70972875]\n [ 5.56459312 11.12918624]] (3, 2)\n[[1]\n [2]] (2, 1)\n"
     ],
     "output_type": "stream"
    },
    {
     "data": {
      "text/plain": "array([[-9.27432187],\n       [27.82296561]])"
     },
     "metadata": {},
     "output_type": "execute_result",
     "execution_count": 71
    }
   ],
   "source": [
    "g = backPropagation(x, 1, s, W)\n",
    "\n",
    "w = np.array(W[2])\n",
    "print(g[2], g[2].shape)\n",
    "print(w, w.shape)\n",
    "g[2] = np.delete(g[2], 0, 0)\n",
    "g[2].dot(w)"
   ],
   "metadata": {
    "collapsed": false,
    "pycharm": {
     "name": "#%%\n",
     "is_executing": false
    }
   }
  },
  {
   "cell_type": "code",
   "execution_count": null,
   "outputs": [],
   "source": [],
   "metadata": {
    "collapsed": false,
    "pycharm": {
     "name": "#%%\n"
    }
   }
  }
 ],
 "metadata": {
  "kernelspec": {
   "display_name": "Python 3",
   "language": "python",
   "name": "python3"
  },
  "language_info": {
   "codemirror_mode": {
    "name": "ipython",
    "version": 2
   },
   "file_extension": ".py",
   "mimetype": "text/x-python",
   "name": "python",
   "nbconvert_exporter": "python",
   "pygments_lexer": "ipython2",
   "version": "2.7.6"
  },
  "pycharm": {
   "stem_cell": {
    "cell_type": "raw",
    "source": [],
    "metadata": {
     "collapsed": false
    }
   }
  }
 },
 "nbformat": 4,
 "nbformat_minor": 0
}