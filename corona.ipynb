{
 "cells": [
  {
   "cell_type": "markdown",
   "source": [
    "Aim: Predicting the <b>Covid-19</b> trend using basic ML\n"
   ],
   "metadata": {
    "collapsed": false,
    "pycharm": {
     "name": "#%% md\n"
    }
   }
  },
  {
   "cell_type": "code",
   "execution_count": 1,
   "metadata": {
    "collapsed": true,
    "pycharm": {
     "is_executing": false
    }
   },
   "outputs": [],
   "source": [
    "import numpy as np\n",
    "import pandas as pd\n",
    "import seaborn as sb\n",
    "from sklearn.linear_model import LinearRegression\n",
    "from sklearn.metrics import mean_absolute_error"
   ]
  },
  {
   "cell_type": "code",
   "execution_count": 2,
   "outputs": [
    {
     "data": {
      "text/plain": "         date  cases\n0  2020-01-21    NaN\n1  2020-01-22    NaN\n2  2020-01-23    NaN\n3  2020-01-24    NaN\n4  2020-01-25    NaN",
      "text/html": "<div>\n<style scoped>\n    .dataframe tbody tr th:only-of-type {\n        vertical-align: middle;\n    }\n\n    .dataframe tbody tr th {\n        vertical-align: top;\n    }\n\n    .dataframe thead th {\n        text-align: right;\n    }\n</style>\n<table border=\"1\" class=\"dataframe\">\n  <thead>\n    <tr style=\"text-align: right;\">\n      <th></th>\n      <th>date</th>\n      <th>cases</th>\n    </tr>\n  </thead>\n  <tbody>\n    <tr>\n      <th>0</th>\n      <td>2020-01-21</td>\n      <td>NaN</td>\n    </tr>\n    <tr>\n      <th>1</th>\n      <td>2020-01-22</td>\n      <td>NaN</td>\n    </tr>\n    <tr>\n      <th>2</th>\n      <td>2020-01-23</td>\n      <td>NaN</td>\n    </tr>\n    <tr>\n      <th>3</th>\n      <td>2020-01-24</td>\n      <td>NaN</td>\n    </tr>\n    <tr>\n      <th>4</th>\n      <td>2020-01-25</td>\n      <td>NaN</td>\n    </tr>\n  </tbody>\n</table>\n</div>"
     },
     "metadata": {},
     "output_type": "execute_result",
     "execution_count": 2
    }
   ],
   "source": [
    "dataset = pd.read_csv('data/covid19/total_cases.csv')\n",
    "canada = dataset[['date','Canada']]\n",
    "canada = canada.rename(columns={'Canada':'cases'})\n",
    "canada.head()"
   ],
   "metadata": {
    "collapsed": false,
    "pycharm": {
     "name": "#%%\n",
     "is_executing": false
    }
   }
  },
  {
   "cell_type": "markdown",
   "source": [
    "drop the NaN rows"
   ],
   "metadata": {
    "collapsed": false,
    "pycharm": {
     "name": "#%% md\n",
     "is_executing": false
    }
   }
  },
  {
   "cell_type": "code",
   "execution_count": 3,
   "outputs": [
    {
     "data": {
      "text/plain": "          date  cases\n6   2020-01-27    1.0\n7   2020-01-28    2.0\n8   2020-01-29    3.0\n9   2020-01-30    3.0\n10  2020-01-31    3.0",
      "text/html": "<div>\n<style scoped>\n    .dataframe tbody tr th:only-of-type {\n        vertical-align: middle;\n    }\n\n    .dataframe tbody tr th {\n        vertical-align: top;\n    }\n\n    .dataframe thead th {\n        text-align: right;\n    }\n</style>\n<table border=\"1\" class=\"dataframe\">\n  <thead>\n    <tr style=\"text-align: right;\">\n      <th></th>\n      <th>date</th>\n      <th>cases</th>\n    </tr>\n  </thead>\n  <tbody>\n    <tr>\n      <th>6</th>\n      <td>2020-01-27</td>\n      <td>1.0</td>\n    </tr>\n    <tr>\n      <th>7</th>\n      <td>2020-01-28</td>\n      <td>2.0</td>\n    </tr>\n    <tr>\n      <th>8</th>\n      <td>2020-01-29</td>\n      <td>3.0</td>\n    </tr>\n    <tr>\n      <th>9</th>\n      <td>2020-01-30</td>\n      <td>3.0</td>\n    </tr>\n    <tr>\n      <th>10</th>\n      <td>2020-01-31</td>\n      <td>3.0</td>\n    </tr>\n  </tbody>\n</table>\n</div>"
     },
     "metadata": {},
     "output_type": "execute_result",
     "execution_count": 3
    }
   ],
   "source": [
    "canada = canada.dropna()\n",
    "canada.head()"
   ],
   "metadata": {
    "collapsed": false,
    "pycharm": {
     "name": "#%%\n",
     "is_executing": false
    }
   }
  },
  {
   "cell_type": "markdown",
   "source": [
    "convert date data type to datetime instead of string"
   ],
   "metadata": {
    "collapsed": false,
    "pycharm": {
     "name": "#%% md\n",
     "is_executing": false
    }
   }
  },
  {
   "cell_type": "code",
   "execution_count": 4,
   "outputs": [
    {
     "data": {
      "text/plain": "date     datetime64[ns]\ncases           float64\ndtype: object"
     },
     "metadata": {},
     "output_type": "execute_result",
     "execution_count": 4
    }
   ],
   "source": [
    "canada['date'] = pd.to_datetime(canada['date'])\n",
    "canada.dtypes"
   ],
   "metadata": {
    "collapsed": false,
    "pycharm": {
     "name": "#%%\n",
     "is_executing": false
    }
   }
  },
  {
   "cell_type": "markdown",
   "source": [
    "To register the converters:"
   ],
   "metadata": {
    "collapsed": false,
    "pycharm": {
     "name": "#%% md\n"
    }
   }
  },
  {
   "cell_type": "code",
   "execution_count": 5,
   "outputs": [],
   "source": [
    "from pandas.plotting import register_matplotlib_converters\n",
    "register_matplotlib_converters()"
   ],
   "metadata": {
    "collapsed": false,
    "pycharm": {
     "name": "#%%\n",
     "is_executing": false
    }
   }
  },
  {
   "cell_type": "markdown",
   "source": [
    "Plot the data"
   ],
   "metadata": {
    "collapsed": false,
    "pycharm": {
     "name": "#%% md\n",
     "is_executing": false
    }
   }
  },
  {
   "cell_type": "code",
   "execution_count": 6,
   "outputs": [
    {
     "data": {
      "text/plain": "   0\n0  0\n1  1\n2  2\n3  3\n4  4",
      "text/html": "<div>\n<style scoped>\n    .dataframe tbody tr th:only-of-type {\n        vertical-align: middle;\n    }\n\n    .dataframe tbody tr th {\n        vertical-align: top;\n    }\n\n    .dataframe thead th {\n        text-align: right;\n    }\n</style>\n<table border=\"1\" class=\"dataframe\">\n  <thead>\n    <tr style=\"text-align: right;\">\n      <th></th>\n      <th>0</th>\n    </tr>\n  </thead>\n  <tbody>\n    <tr>\n      <th>0</th>\n      <td>0</td>\n    </tr>\n    <tr>\n      <th>1</th>\n      <td>1</td>\n    </tr>\n    <tr>\n      <th>2</th>\n      <td>2</td>\n    </tr>\n    <tr>\n      <th>3</th>\n      <td>3</td>\n    </tr>\n    <tr>\n      <th>4</th>\n      <td>4</td>\n    </tr>\n  </tbody>\n</table>\n</div>"
     },
     "metadata": {},
     "output_type": "execute_result",
     "execution_count": 6
    }
   ],
   "source": [
    "X = canada['date']\n",
    "X = X.factorize()[0].reshape(-1, 1)\n",
    "X = pd.DataFrame(X)\n",
    "X.head()"
   ],
   "metadata": {
    "collapsed": false,
    "pycharm": {
     "name": "#%%\n",
     "is_executing": false
    }
   }
  },
  {
   "cell_type": "code",
   "execution_count": 7,
   "outputs": [
    {
     "data": {
      "text/plain": "     0\n0  1.0\n1  2.0\n2  3.0\n3  3.0\n4  3.0",
      "text/html": "<div>\n<style scoped>\n    .dataframe tbody tr th:only-of-type {\n        vertical-align: middle;\n    }\n\n    .dataframe tbody tr th {\n        vertical-align: top;\n    }\n\n    .dataframe thead th {\n        text-align: right;\n    }\n</style>\n<table border=\"1\" class=\"dataframe\">\n  <thead>\n    <tr style=\"text-align: right;\">\n      <th></th>\n      <th>0</th>\n    </tr>\n  </thead>\n  <tbody>\n    <tr>\n      <th>0</th>\n      <td>1.0</td>\n    </tr>\n    <tr>\n      <th>1</th>\n      <td>2.0</td>\n    </tr>\n    <tr>\n      <th>2</th>\n      <td>3.0</td>\n    </tr>\n    <tr>\n      <th>3</th>\n      <td>3.0</td>\n    </tr>\n    <tr>\n      <th>4</th>\n      <td>3.0</td>\n    </tr>\n  </tbody>\n</table>\n</div>"
     },
     "metadata": {},
     "output_type": "execute_result",
     "execution_count": 7
    }
   ],
   "source": [
    "Y = canada['cases'].values.reshape(-1, 1)\n",
    "Y = pd.DataFrame(Y)\n",
    "Y.head()"
   ],
   "metadata": {
    "collapsed": false,
    "pycharm": {
     "name": "#%%\n",
     "is_executing": false
    }
   }
  },
  {
   "cell_type": "code",
   "execution_count": 8,
   "outputs": [
    {
     "data": {
      "text/plain": "<matplotlib.axes._subplots.AxesSubplot at 0x12563790>"
     },
     "metadata": {},
     "output_type": "execute_result",
     "execution_count": 8
    },
    {
     "data": {
      "text/plain": "<Figure size 432x288 with 1 Axes>",
      "image/png": "[encoded data removed]"
     },
     "metadata": {
      "needs_background": "light"
     },
     "output_type": "display_data"
    }
   ],
   "source": [
    "sb.lineplot(x=X[0], y=Y[0])"
   ],
   "metadata": {
    "collapsed": false,
    "pycharm": {
     "name": "#%%\n",
     "is_executing": false
    }
   }
  },
  {
   "cell_type": "markdown",
   "source": [
    "A function to return log of number of cases, in the desired base"
   ],
   "metadata": {
    "collapsed": false,
    "pycharm": {
     "name": "#%% md\n",
     "is_executing": false
    }
   }
  },
  {
   "cell_type": "code",
   "execution_count": 8,
   "outputs": [],
   "source": [],
   "metadata": {
    "collapsed": false,
    "pycharm": {
     "name": "#%%\n",
     "is_executing": false
    }
   }
  },
  {
   "cell_type": "code",
   "execution_count": 9,
   "outputs": [
    {
     "data": {
      "text/plain": "<matplotlib.axes._subplots.AxesSubplot at 0x135d9478>"
     },
     "metadata": {},
     "output_type": "execute_result",
     "execution_count": 9
    },
    {
     "data": {
      "text/plain": "<Figure size 432x288 with 1 Axes>",
      "image/png": "[encoded data removed]"
     },
     "metadata": {
      "needs_background": "light"
     },
     "output_type": "display_data"
    }
   ],
   "source": [
    "def Y_log(base=2):\n",
    "    return pd.DataFrame(np.log(Y) / np.log(base))\n",
    "\n",
    "sb.lineplot(x=X[0], y=Y_log(1.40)[0],)"
   ],
   "metadata": {
    "collapsed": false,
    "pycharm": {
     "name": "#%%\n",
     "is_executing": false
    }
   }
  },
  {
   "cell_type": "markdown",
   "source": [
    "We change the base of log from 1.01 to 2.50 and run linear regression algorithm to find the fittest base log"
   ],
   "metadata": {
    "collapsed": false,
    "pycharm": {
     "name": "#%% md\n"
    }
   }
  },
  {
   "cell_type": "code",
   "execution_count": 10,
   "outputs": [],
   "source": [
    "result_bank = {}\n",
    "for base in range(101, 400):\n",
    "    base /= 100\n",
    "    lg = LinearRegression()\n",
    "    Y_log_base = Y_log(base)\n",
    "    lg.fit(X, Y_log_base)\n",
    "    Y_pred = lg.predict(X)\n",
    "    error = mean_absolute_error(Y_log_base,Y_pred)\n",
    "    result_bank[base] = error ** base"
   ],
   "metadata": {
    "collapsed": false,
    "pycharm": {
     "name": "#%%\n",
     "is_executing": false
    }
   }
  },
  {
   "cell_type": "code",
   "execution_count": 11,
   "outputs": [
    {
     "data": {
      "text/plain": "{1.01: 40.05716361815649,\n 1.02: 20.591373539055734,\n 1.03: 14.040470005460097,\n 1.04: 10.734441987210165,\n 1.05: 8.732391162875713,\n 1.06: 7.385254703522343,\n 1.07: 6.414002373106135,\n 1.08: 5.67870036334099,\n 1.09: 5.10137957980301,\n 1.1: 4.635123785444037,\n 1.11: 4.249992480096221,\n 1.12: 3.925969431610515,\n 1.13: 3.6491588783688846,\n 1.14: 3.4096080614721336,\n 1.15: 3.1999984465653566,\n 1.16: 3.0148263148382473,\n 1.17: 2.849871644424587,\n 1.18: 2.7018434275555383,\n 1.19: 2.5681365827204843,\n 1.2: 2.446661508086141,\n 1.21: 2.335722131638456,\n 1.22: 2.2339270741777084,\n 1.23: 2.140123879783304,\n 1.24: 2.0533496085888934,\n 1.25: 1.9727932267875763,\n 1.26: 1.897766629589049,\n 1.27: 1.8276820677264753,\n 1.28: 1.7620343831718646,\n 1.29: 1.7003868981591594,\n 1.3: 1.6423601088484743,\n 1.31: 1.5876225532322639,\n 1.32: 1.5358833799288314,\n 1.33: 1.4868862588422012,\n 1.34: 1.4404043588237898,\n 1.35: 1.3962361800521745,\n 1.36: 1.3542020758314366,\n 1.37: 1.314141334100493,\n 1.38: 1.2759097161360093,\n 1.39: 1.2393773708682074,\n 1.4: 1.204427059471323,\n 1.41: 1.1709526375802597,\n 1.42: 1.1388577524655936,\n 1.43: 1.1080547203986055,\n 1.44: 1.0784635557279871,\n 1.45: 1.0500111282268565,\n 1.46: 1.0226304293242048,\n 1.47: 0.9962599311170378,\n 1.48: 0.9708430247288231,\n 1.49: 0.9463275267610545,\n 1.5: 0.9226652443750635,\n 1.51: 0.8998115910170202,\n 1.52: 0.8777252460206306,\n 1.53: 0.8563678523371325,\n 1.54: 0.835703747488932,\n 1.55: 0.8156997235520723,\n 1.56: 0.7963248125682135,\n 1.57: 0.7775500942887562,\n 1.58: 0.7593485235781897,\n 1.59: 0.7416947751638003,\n 1.6: 0.7245651037251997,\n 1.61: 0.7079372175785037,\n 1.62: 0.69179016443364,\n 1.63: 0.6761042278951318,\n 1.64: 0.6608608335417324,\n 1.65: 0.6460424635626298,\n 1.66: 0.6316325790509321,\n 1.67: 0.6176155491617745,\n 1.68: 0.6039765864349235,\n 1.69: 0.5907016876623572,\n 1.7: 0.5777775797515542,\n 1.71: 0.5651916700966393,\n 1.72: 0.5529320010233506,\n 1.73: 0.5409872079209623,\n 1.74: 0.529346480715814,\n 1.75: 0.5179995283776474,\n 1.76: 0.5069365461821799,\n 1.77: 0.4961481854818808,\n 1.78: 0.4856255257621221,\n 1.79: 0.47536004878227894,\n 1.8: 0.46534361462122487,\n 1.81: 0.45556843946435843,\n 1.82: 0.44602707498505084,\n 1.83: 0.4367123891874754,\n 1.84: 0.42761754859033513,\n 1.85: 0.41873600164225694,\n 1.86: 0.4100614632696898,\n 1.87: 0.4015879004672013,\n 1.88: 0.3933095188481615,\n 1.89: 0.3852207500811426,\n 1.9: 0.37731624014392595,\n 1.91: 0.36959083833294337,\n 1.92: 0.3620395869713542,\n 1.93: 0.3546577117637859,\n 1.94: 0.3474406127501627,\n 1.95: 0.340383855815017,\n 1.96: 0.33348316471227096,\n 1.97: 0.32673441356876415,\n 1.98: 0.32013361983276034,\n 1.99: 0.31367693763637255,\n 2.0: 0.3073606515433221,\n 2.01: 0.30118117065567096,\n 2.02: 0.29513502305523537,\n 2.03: 0.28921885055724683,\n 2.04: 0.2834294037555393,\n 2.05: 0.27776353734010995,\n 2.06: 0.2722182056693314,\n 2.07: 0.26679045858040396,\n 2.08: 0.26147743742284435,\n 2.09: 0.2562763713009145,\n 2.1: 0.2511845735119039,\n 2.11: 0.24619943816812304,\n 2.12: 0.24131843699131383,\n 2.13: 0.23653911626898774,\n 2.14: 0.2318590939629167,\n 2.15: 0.22727605696069392,\n 2.16: 0.22278775846188315,\n 2.17: 0.21839201549086684,\n 2.18: 0.21408670652901882,\n 2.19: 0.20986976925933135,\n 2.2: 0.20573919841706742,\n 2.21: 0.20169304374044408,\n 2.22: 0.19772940801572553,\n 2.23: 0.19384644521148428,\n 2.24: 0.1900423586971088,\n 2.25: 0.18631539954095816,\n 2.26: 0.18266386488384614,\n 2.27: 0.17908609638381112,\n 2.28: 0.17558047872837898,\n 2.29: 0.17214543821075118,\n 2.3: 0.16877944136657905,\n 2.31: 0.16548099366817703,\n 2.32: 0.16224863827322347,\n 2.33: 0.15908095482516652,\n 2.34: 0.15597655830272367,\n 2.35: 0.15293409791601187,\n 2.36: 0.14995225604698964,\n 2.37: 0.14702974723202694,\n 2.38: 0.1441653171845425,\n 2.39: 0.14135774185576838,\n 2.4: 0.13860582653180528,\n 2.41: 0.13590840496524162,\n 2.42: 0.13326433853970113,\n 2.43: 0.13067251546577371,\n 2.44: 0.12813185000687424,\n 2.45: 0.12564128173364358,\n 2.46: 0.12319977480559276,\n 2.47: 0.12080631727874977,\n 2.48: 0.11845992043814212,\n 2.49: 0.11615961815400604,\n 2.5: 0.11390446626067455,\n 2.51: 0.11169354195714543,\n 2.52: 0.10952594322838945,\n 2.53: 0.10740078828650253,\n 2.54: 0.10531721503085,\n 2.55: 0.10327438052640112,\n 2.56: 0.101271460499482,\n 2.57: 0.09930764885022544,\n 2.58: 0.09738215718102032,\n 2.59: 0.09549421434030803,\n 2.6: 0.09364306598109659,\n 2.61: 0.0918279741335987,\n 2.62: 0.09004821679142876,\n 2.63: 0.08830308751081714,\n 2.64: 0.08659189502233014,\n 2.65: 0.08491396285460436,\n 2.66: 0.08326862896963072,\n 2.67: 0.08165524540914273,\n 2.68: 0.08007317795168432,\n 2.69: 0.07852180577995364,\n 2.7: 0.0770005211580348,\n 2.71: 0.07550872911815178,\n 2.72: 0.07404584715658875,\n 2.73: 0.07261130493844355,\n 2.74: 0.07120454401089045,\n 2.75: 0.06982501752464666,\n 2.76: 0.0684721899633471,\n 2.77: 0.0671455368805476,\n 2.78: 0.06584454464408739,\n 2.79: 0.06456871018755152,\n 2.8: 0.06331754076859049,\n 2.81: 0.06209055373385628,\n 2.82: 0.06088727629033314,\n 2.83: 0.05970724528284267,\n 2.84: 0.058550006977518526,\n 2.85: 0.05741511685104835,\n 2.86: 0.056302139385494596,\n 2.87: 0.055210647868509904,\n 2.88: 0.05414022419876955,\n 2.89: 0.05309045869645508,\n 2.9: 0.05206094991862384,\n 2.91: 0.051051304479310625,\n 2.92: 0.05006113687421109,\n 2.93: 0.04909006930980147,\n 2.94: 0.048137731536760514,\n 2.95: 0.04720376068755457,\n 2.96: 0.04628780111806309,\n 2.97: 0.04538950425311906,\n 2.98: 0.044508528435845233,\n 2.99: 0.04364453878067382,\n 3.0: 0.042797207029938646,\n 3.01: 0.04196621141393383,\n 3.02: 0.04115123651433793,\n 3.03: 0.040351973130904294,\n 3.04: 0.03956811815132339,\n 3.05: 0.03879937442416599,\n 3.06: 0.038045450634818075,\n 3.07: 0.0373060611843242,\n 3.08: 0.03658092607105531,\n 3.09: 0.035869770775123634,\n 3.1: 0.03517232614546675,\n 3.11: 0.03448832828952804,\n 3.12: 0.03381751846546197,\n 3.13: 0.03315964297679485,\n 3.14: 0.03251445306947513,\n 3.15: 0.03188170483124866,\n 3.16: 0.03126115909329637,\n 3.17: 0.030652581334074832,\n 3.18: 0.030055741585300725,\n 3.19: 0.029470414340024068,\n 3.2: 0.02889637846273379,\n 3.21: 0.028333417101445248,\n 3.22: 0.027781317601716603,\n 3.23: 0.027239871422545813,\n 3.24: 0.02670887405409963,\n 3.25: 0.026188124937228864,\n 3.26: 0.025677427384723936,\n 3.27: 0.025176588504268183,\n 3.28: 0.024685419123045983,\n 3.29: 0.024203733713964875,\n 3.3: 0.02373135032345189,\n 3.31: 0.023268090500785613,\n 3.32: 0.022813779228926433,\n 3.33: 0.0223682448568086,\n 3.34: 0.021931319033059494,\n 3.35: 0.021502836641110513,\n 3.36: 0.021082635735667744,\n 3.37: 0.020670557480509593,\n 3.38: 0.020266446087579475,\n 3.39: 0.0198701487573442,\n 3.4: 0.019481515620387538,\n 3.41: 0.0191003996802105,\n 3.42: 0.018726656757210507,\n 3.43: 0.018360145433811922,\n 3.44: 0.018000727000721865,\n 3.45: 0.017648265404285296,\n 3.46: 0.017302627194914315,\n 3.47: 0.01696368147656752,\n 3.48: 0.016631299857255873,\n 3.49: 0.01630535640055132,\n 3.5: 0.015985727578076484,\n 3.51: 0.015672292222953136,\n 3.52: 0.015364931484188216,\n 3.53: 0.01506352878197685,\n 3.54: 0.014767969763901823,\n 3.55: 0.014478142262010217,\n 3.56: 0.01419393625074769,\n 3.57: 0.01391524380573197,\n 3.58: 0.013641959063347227,\n 3.59: 0.013373978181141678,\n 3.6: 0.013111199299010634,\n 3.61: 0.012853522501149295,\n 3.62: 0.012600849778757138,\n 3.63: 0.012353084993479348,\n 3.64: 0.012110133841568869,\n 3.65: 0.01187190381875395,\n 3.66: 0.011638304185796255,\n 3.67: 0.01140924593472513,\n 3.68: 0.01118464175573358,\n 3.69: 0.010964406004722425,\n 3.7: 0.010748454671478702,\n 3.71: 0.010536705348475613,\n 3.72: 0.010329077200280512,\n 3.73: 0.010125490933558837,\n 3.74: 0.009925868767661584,\n 3.75: 0.009730134405784074,\n 3.76: 0.009538213006684426,\n 3.77: 0.009350031156950486,\n 3.78: 0.00916551684380352,\n 3.79: 0.00898459942842826,\n 3.8: 0.008807209619818065,\n 3.81: 0.008633279449125347,\n 3.82: 0.008462742244506438,\n 3.83: 0.00829553260645124,\n 3.84: 0.008131586383587987,\n 3.85: 0.007970840648953165,\n 3.86: 0.007813233676717678,\n 3.87: 0.007658704919359842,\n 3.88: 0.007507194985276459,\n 3.89: 0.0073586456168229526,\n 3.9: 0.007212999668774504,\n 3.91: 0.007070201087199241,\n 3.92: 0.006930194888735854,\n 3.93: 0.0067929271402671,\n 3.94: 0.006658344938981948,\n 3.95: 0.006526396392818095,\n 3.96: 0.00639703060127791,\n 3.97: 0.00627019763660999,\n 3.98: 0.006145848525349539,\n 3.99: 0.006023935230210239}"
     },
     "metadata": {},
     "output_type": "execute_result",
     "execution_count": 11
    }
   ],
   "source": [
    "result_bank"
   ],
   "metadata": {
    "collapsed": false,
    "pycharm": {
     "name": "#%%",
     "is_executing": false
    }
   }
  }
 ],
 "metadata": {
  "kernelspec": {
   "display_name": "Python 3",
   "language": "python",
   "name": "python3"
  },
  "language_info": {
   "codemirror_mode": {
    "name": "ipython",
    "version": 2
   },
   "file_extension": ".py",
   "mimetype": "text/x-python",
   "name": "python",
   "nbconvert_exporter": "python",
   "pygments_lexer": "ipython2",
   "version": "2.7.6"
  },
  "pycharm": {
   "stem_cell": {
    "cell_type": "raw",
    "source": [],
    "metadata": {
     "collapsed": false
    }
   }
  }
 },
 "nbformat": 4,
 "nbformat_minor": 0
}