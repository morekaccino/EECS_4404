{
 "cells": [
  {
   "cell_type": "markdown",
   "source": [
    "Aim: Predicting the <b>Covid-19</b> trend using basic ML\n"
   ],
   "metadata": {
    "collapsed": false,
    "pycharm": {
     "name": "#%% md\n"
    }
   }
  },
  {
   "cell_type": "code",
   "execution_count": 1,
   "metadata": {
    "collapsed": true,
    "pycharm": {
     "is_executing": false
    }
   },
   "outputs": [],
   "source": [
    "import numpy as np\n",
    "import pandas as pd\n",
    "import seaborn as sb\n",
    "from sklearn.linear_model import LinearRegression\n",
    "from sklearn.metrics import mean_absolute_error"
   ]
  },
  {
   "cell_type": "code",
   "execution_count": 2,
   "outputs": [
    {
     "data": {
      "text/plain": "         date  cases\n0  2020-01-21    NaN\n1  2020-01-22    NaN\n2  2020-01-23    NaN\n3  2020-01-24    NaN\n4  2020-01-25    NaN",
      "text/html": "<div>\n<style scoped>\n    .dataframe tbody tr th:only-of-type {\n        vertical-align: middle;\n    }\n\n    .dataframe tbody tr th {\n        vertical-align: top;\n    }\n\n    .dataframe thead th {\n        text-align: right;\n    }\n</style>\n<table border=\"1\" class=\"dataframe\">\n  <thead>\n    <tr style=\"text-align: right;\">\n      <th></th>\n      <th>date</th>\n      <th>cases</th>\n    </tr>\n  </thead>\n  <tbody>\n    <tr>\n      <th>0</th>\n      <td>2020-01-21</td>\n      <td>NaN</td>\n    </tr>\n    <tr>\n      <th>1</th>\n      <td>2020-01-22</td>\n      <td>NaN</td>\n    </tr>\n    <tr>\n      <th>2</th>\n      <td>2020-01-23</td>\n      <td>NaN</td>\n    </tr>\n    <tr>\n      <th>3</th>\n      <td>2020-01-24</td>\n      <td>NaN</td>\n    </tr>\n    <tr>\n      <th>4</th>\n      <td>2020-01-25</td>\n      <td>NaN</td>\n    </tr>\n  </tbody>\n</table>\n</div>"
     },
     "metadata": {},
     "output_type": "execute_result",
     "execution_count": 2
    }
   ],
   "source": [
    "dataset = pd.read_csv('data/covid19/total_cases.csv')\n",
    "canada = dataset[['date','Canada']]\n",
    "canada = canada.rename(columns={'Canada':'cases'})\n",
    "canada.head()"
   ],
   "metadata": {
    "collapsed": false,
    "pycharm": {
     "name": "#%%\n",
     "is_executing": false
    }
   }
  },
  {
   "cell_type": "markdown",
   "source": [
    "drop the NaN rows"
   ],
   "metadata": {
    "collapsed": false,
    "pycharm": {
     "name": "#%% md\n",
     "is_executing": false
    }
   }
  },
  {
   "cell_type": "code",
   "execution_count": 3,
   "outputs": [
    {
     "data": {
      "text/plain": "          date  cases\n6   2020-01-27    1.0\n7   2020-01-28    2.0\n8   2020-01-29    3.0\n9   2020-01-30    3.0\n10  2020-01-31    3.0",
      "text/html": "<div>\n<style scoped>\n    .dataframe tbody tr th:only-of-type {\n        vertical-align: middle;\n    }\n\n    .dataframe tbody tr th {\n        vertical-align: top;\n    }\n\n    .dataframe thead th {\n        text-align: right;\n    }\n</style>\n<table border=\"1\" class=\"dataframe\">\n  <thead>\n    <tr style=\"text-align: right;\">\n      <th></th>\n      <th>date</th>\n      <th>cases</th>\n    </tr>\n  </thead>\n  <tbody>\n    <tr>\n      <th>6</th>\n      <td>2020-01-27</td>\n      <td>1.0</td>\n    </tr>\n    <tr>\n      <th>7</th>\n      <td>2020-01-28</td>\n      <td>2.0</td>\n    </tr>\n    <tr>\n      <th>8</th>\n      <td>2020-01-29</td>\n      <td>3.0</td>\n    </tr>\n    <tr>\n      <th>9</th>\n      <td>2020-01-30</td>\n      <td>3.0</td>\n    </tr>\n    <tr>\n      <th>10</th>\n      <td>2020-01-31</td>\n      <td>3.0</td>\n    </tr>\n  </tbody>\n</table>\n</div>"
     },
     "metadata": {},
     "output_type": "execute_result",
     "execution_count": 3
    }
   ],
   "source": [
    "canada = canada.dropna()\n",
    "canada.head()"
   ],
   "metadata": {
    "collapsed": false,
    "pycharm": {
     "name": "#%%\n",
     "is_executing": false
    }
   }
  },
  {
   "cell_type": "markdown",
   "source": [
    "convert date data type to datetime instead of string"
   ],
   "metadata": {
    "collapsed": false,
    "pycharm": {
     "name": "#%% md\n",
     "is_executing": false
    }
   }
  },
  {
   "cell_type": "code",
   "execution_count": 4,
   "outputs": [
    {
     "data": {
      "text/plain": "date     datetime64[ns]\ncases           float64\ndtype: object"
     },
     "metadata": {},
     "output_type": "execute_result",
     "execution_count": 4
    }
   ],
   "source": [
    "canada['date'] = pd.to_datetime(canada['date'])\n",
    "canada.dtypes"
   ],
   "metadata": {
    "collapsed": false,
    "pycharm": {
     "name": "#%%\n",
     "is_executing": false
    }
   }
  },
  {
   "cell_type": "markdown",
   "source": [
    "To register the converters:"
   ],
   "metadata": {
    "collapsed": false,
    "pycharm": {
     "name": "#%% md\n"
    }
   }
  },
  {
   "cell_type": "code",
   "execution_count": 5,
   "outputs": [],
   "source": [
    "from pandas.plotting import register_matplotlib_converters\n",
    "register_matplotlib_converters()"
   ],
   "metadata": {
    "collapsed": false,
    "pycharm": {
     "name": "#%%\n",
     "is_executing": false
    }
   }
  },
  {
   "cell_type": "markdown",
   "source": [
    "Plot the data"
   ],
   "metadata": {
    "collapsed": false,
    "pycharm": {
     "name": "#%% md\n",
     "is_executing": false
    }
   }
  },
  {
   "cell_type": "code",
   "execution_count": 6,
   "outputs": [
    {
     "data": {
      "text/plain": "   0\n0  0\n1  1\n2  2\n3  3\n4  4",
      "text/html": "<div>\n<style scoped>\n    .dataframe tbody tr th:only-of-type {\n        vertical-align: middle;\n    }\n\n    .dataframe tbody tr th {\n        vertical-align: top;\n    }\n\n    .dataframe thead th {\n        text-align: right;\n    }\n</style>\n<table border=\"1\" class=\"dataframe\">\n  <thead>\n    <tr style=\"text-align: right;\">\n      <th></th>\n      <th>0</th>\n    </tr>\n  </thead>\n  <tbody>\n    <tr>\n      <th>0</th>\n      <td>0</td>\n    </tr>\n    <tr>\n      <th>1</th>\n      <td>1</td>\n    </tr>\n    <tr>\n      <th>2</th>\n      <td>2</td>\n    </tr>\n    <tr>\n      <th>3</th>\n      <td>3</td>\n    </tr>\n    <tr>\n      <th>4</th>\n      <td>4</td>\n    </tr>\n  </tbody>\n</table>\n</div>"
     },
     "metadata": {},
     "output_type": "execute_result",
     "execution_count": 6
    }
   ],
   "source": [
    "X = canada['date']\n",
    "X = X.factorize()[0].reshape(-1, 1)\n",
    "X = pd.DataFrame(X)\n",
    "X.head()"
   ],
   "metadata": {
    "collapsed": false,
    "pycharm": {
     "name": "#%%\n",
     "is_executing": false
    }
   }
  },
  {
   "cell_type": "code",
   "execution_count": 7,
   "outputs": [
    {
     "data": {
      "text/plain": "     0\n0  1.0\n1  2.0\n2  3.0\n3  3.0\n4  3.0",
      "text/html": "<div>\n<style scoped>\n    .dataframe tbody tr th:only-of-type {\n        vertical-align: middle;\n    }\n\n    .dataframe tbody tr th {\n        vertical-align: top;\n    }\n\n    .dataframe thead th {\n        text-align: right;\n    }\n</style>\n<table border=\"1\" class=\"dataframe\">\n  <thead>\n    <tr style=\"text-align: right;\">\n      <th></th>\n      <th>0</th>\n    </tr>\n  </thead>\n  <tbody>\n    <tr>\n      <th>0</th>\n      <td>1.0</td>\n    </tr>\n    <tr>\n      <th>1</th>\n      <td>2.0</td>\n    </tr>\n    <tr>\n      <th>2</th>\n      <td>3.0</td>\n    </tr>\n    <tr>\n      <th>3</th>\n      <td>3.0</td>\n    </tr>\n    <tr>\n      <th>4</th>\n      <td>3.0</td>\n    </tr>\n  </tbody>\n</table>\n</div>"
     },
     "metadata": {},
     "output_type": "execute_result",
     "execution_count": 7
    }
   ],
   "source": [
    "Y = canada['cases'].values.reshape(-1, 1)\n",
    "Y = pd.DataFrame(Y)\n",
    "Y.head()"
   ],
   "metadata": {
    "collapsed": false,
    "pycharm": {
     "name": "#%%\n",
     "is_executing": false
    }
   }
  },
  {
   "cell_type": "code",
   "execution_count": 8,
   "outputs": [
    {
     "data": {
      "text/plain": "<matplotlib.axes._subplots.AxesSubplot at 0x128a4310>"
     },
     "metadata": {},
     "output_type": "execute_result",
     "execution_count": 8
    },
    {
     "data": {
      "text/plain": "<Figure size 432x288 with 1 Axes>",
      "image/png": "[encoded data removed]"
     },
     "metadata": {
      "needs_background": "light"
     },
     "output_type": "display_data"
    }
   ],
   "source": [
    "sb.lineplot(x=X[0], y=Y[0])"
   ],
   "metadata": {
    "collapsed": false,
    "pycharm": {
     "name": "#%%\n",
     "is_executing": false
    }
   }
  },
  {
   "cell_type": "markdown",
   "source": [
    "A function to return log of number of cases, in the desired base"
   ],
   "metadata": {
    "collapsed": false,
    "pycharm": {
     "name": "#%% md\n",
     "is_executing": false
    }
   }
  },
  {
   "cell_type": "code",
   "execution_count": 8,
   "outputs": [],
   "source": [],
   "metadata": {
    "collapsed": false,
    "pycharm": {
     "name": "#%%\n",
     "is_executing": false
    }
   }
  },
  {
   "cell_type": "code",
   "execution_count": 21,
   "outputs": [
    {
     "data": {
      "text/plain": "<matplotlib.axes._subplots.AxesSubplot at 0x13c3bc58>"
     },
     "metadata": {},
     "output_type": "execute_result",
     "execution_count": 21
    },
    {
     "data": {
      "text/plain": "<Figure size 432x288 with 1 Axes>",
      "image/png": "[encoded data removed]"
     },
     "metadata": {
      "needs_background": "light"
     },
     "output_type": "display_data"
    }
   ],
   "source": [
    "def Y_log(base=2):\n",
    "    return pd.DataFrame(np.log(Y) / np.log(base))\n",
    "\n",
    "sb.lineplot(x=X[0], y=Y_log(1.40)[0],)"
   ],
   "metadata": {
    "collapsed": false,
    "pycharm": {
     "name": "#%%\n",
     "is_executing": false
    }
   }
  },
  {
   "cell_type": "markdown",
   "source": [
    "We change the base of log from 1.01 to 2.50 and run linear regression algorithm to find the fittest base log"
   ],
   "metadata": {
    "collapsed": false,
    "pycharm": {
     "name": "#%% md\n"
    }
   }
  },
  {
   "cell_type": "code",
   "execution_count": 17,
   "outputs": [],
   "source": [
    "result_bank = {}\n",
    "for base in range(101, 400):\n",
    "    base /= 100\n",
    "    lg = LinearRegression()\n",
    "    Y_log_base = Y_log(base)\n",
    "    lg.fit(X, Y_log_base)\n",
    "    Y_pred = lg.predict(X)\n",
    "    error = mean_absolute_error(Y_log_base,Y_pred)\n",
    "    result_bank[base] = error ** base"
   ],
   "metadata": {
    "collapsed": false,
    "pycharm": {
     "name": "#%%\n",
     "is_executing": false
    }
   }
  },
  {
   "cell_type": "code",
   "execution_count": 18,
   "outputs": [
    {
     "data": {
      "text/plain": "{1.01: 35.65951802209629,\n 1.02: 18.30967117212143,\n 1.03: 12.470297861878867,\n 1.04: 9.523018048649186,\n 1.05: 7.737991865879707,\n 1.06: 6.536729574526364,\n 1.07: 5.6705359757658895,\n 1.08: 5.014687805691921,\n 1.09: 4.499689429853749,\n 1.1: 4.08372219359554,\n 1.11: 3.740097882234323,\n 1.12: 3.4509738917270205,\n 1.13: 3.203962949972895,\n 1.14: 2.990192346099636,\n 1.15: 2.8031374073403135,\n 1.16: 2.637891145386603,\n 1.17: 2.4906908550453184,\n 1.18: 2.358601970928952,\n 1.19: 2.2393013902597727,\n 1.2: 2.130925542443558,\n 1.21: 2.031961685307747,\n 1.22: 1.9411687162003142,\n 1.23: 1.8575185443195852,\n 1.24: 1.780152047794443,\n 1.25: 1.7083455465049433,\n 1.26: 1.6414849701888825,\n 1.27: 1.579045734654684,\n 1.28: 1.5205769049687257,\n 1.29: 1.4656886152826978,\n 1.3: 1.4140419888174771,\n 1.31: 1.3653409960726794,\n 1.32: 1.3193258293140373,\n 1.33: 1.2757674733038398,\n 1.34: 1.23446322725455,\n 1.35: 1.195232988769233,\n 1.36: 1.1579161524136896,\n 1.37: 1.122369007291918,\n 1.38: 1.0884625422340917,\n 1.39: 1.0560805858696172,\n 1.4: 1.0251182233368505,\n 1.41: 0.9954804426931859,\n 1.42: 0.9670809729864733,\n 1.43: 0.9398412829907715,\n 1.44: 0.913689715216781,\n 1.45: 0.888560734297696,\n 1.46: 0.8643942724665953,\n 1.47: 0.8411351577675737,\n 1.48: 0.8187326130225376,\n 1.49: 0.7971398155202104,\n 1.5: 0.7763135089899958,\n 1.51: 0.756213660739133,\n 1.52: 0.7368031579206503,\n 1.53: 0.7180475378046706,\n 1.54: 0.6999147476805565,\n 1.55: 0.6823749306493757,\n 1.56: 0.665400234097134,\n 1.57: 0.6489646380867491,\n 1.58: 0.633043801285216,\n 1.59: 0.6176149223634294,\n 1.6: 0.6026566150792851,\n 1.61: 0.5881487954877317,\n 1.62: 0.5740725799208654,\n 1.63: 0.5604101925522531,\n 1.64: 0.5471448815068227,\n 1.65: 0.5342608426045935,\n 1.66: 0.5217431499361985,\n 1.67: 0.509577692563224,\n 1.68: 0.49775111671893485,\n 1.69: 0.4862507729568096,\n 1.7: 0.47506466775697465,\n 1.71: 0.4641814191553972,\n 1.72: 0.4535902160086821,\n 1.73: 0.44328078054939707,\n 1.74: 0.4332433339238706,\n 1.75: 0.4234685644369944,\n 1.76: 0.4139475982573356,\n 1.77: 0.40467197236127284,\n 1.78: 0.39563360951739357,\n 1.79: 0.38682479513233864,\n 1.8: 0.37823815579702474,\n 1.81: 0.36986663938794134,\n 1.82: 0.36170349659227896,\n 1.83: 0.35374226373818596,\n 1.84: 0.3459767468226644,\n 1.85: 0.33840100663963874,\n 1.86: 0.33100934491972195,\n 1.87: 0.32379629140127214,\n 1.88: 0.3167565917595724,\n 1.89: 0.30988519632748757,\n 1.9: 0.3031772495468311,\n 1.91: 0.2966280800949538,\n 1.92: 0.29023319163586303,\n 1.93: 0.2839882541494975,\n 1.94: 0.277889095796688,\n 1.95: 0.2719316952808921,\n 1.96: 0.2661121746709855,\n 1.97: 0.26042679265232754,\n 1.98: 0.25487193817596654,\n 1.99: 0.2494441244782496,\n 2.0: 0.24413998344532428,\n 2.01: 0.23895626029899394,\n 2.02: 0.23388980858224262,\n 2.03: 0.22893758542439344,\n 2.04: 0.2240966470674045,\n 2.05: 0.21936414463619386,\n 2.06: 0.21473732013716915,\n 2.07: 0.2102135026703051,\n 2.08: 0.20579010484118831,\n 2.09: 0.20146461936044127,\n 2.1: 0.19723461581882992,\n 2.11: 0.1930977376272113,\n 2.12: 0.18905169911122896,\n 2.13: 0.18509428275138318,\n 2.14: 0.18122333655974177,\n 2.15: 0.17743677158517324,\n 2.16: 0.17373255953952185,\n 2.17: 0.17010873053767026,\n 2.18: 0.16656337094490178,\n 2.19: 0.16309462132541297,\n 2.2: 0.15970067448623188,\n 2.21: 0.15637977361118005,\n 2.22: 0.15313021047984962,\n 2.23: 0.14995032376690598,\n 2.24: 0.14683849741731392,\n 2.25: 0.14379315909336834,\n 2.26: 0.14081277868966965,\n 2.27: 0.13789586691241892,\n 2.28: 0.1350409739196413,\n 2.29: 0.13224668801913908,\n 2.3: 0.12951163442118777,\n 2.31: 0.12683447404315062,\n 2.32: 0.12421390236337139,\n 2.33: 0.12164864832184936,\n 2.34: 0.11913747326535702,\n 2.35: 0.11667916993478832,\n 2.36: 0.11427256149266406,\n 2.37: 0.11191650058882814,\n 2.38: 0.10960986846249324,\n 2.39: 0.10735157407888518,\n 2.4: 0.10514055329884814,\n 2.41: 0.1029757680798489,\n 2.42: 0.10085620570691935,\n 2.43: 0.09878087805214507,\n 2.44: 0.0967488208613903,\n 2.45: 0.09475909306701777,\n 2.46: 0.09281077612543011,\n 2.47: 0.09090297337831979,\n 2.48: 0.0890348094365761,\n 2.49: 0.08720542958585031,\n 2.5: 0.08541399921283527,\n 2.51: 0.08365970325135967,\n 2.52: 0.08194174564744888,\n 2.53: 0.0802593488425458,\n 2.54: 0.07861175327412045,\n 2.55: 0.07699821689294686,\n 2.56: 0.07541801469634994,\n 2.57: 0.07387043827676838,\n 2.58: 0.07235479538500658,\n 2.59: 0.0708704095075819,\n 2.6: 0.06941661945760111,\n 2.61: 0.06799277897862749,\n 2.62: 0.0665982563610242,\n 2.63: 0.06523243407028861,\n 2.64: 0.06389470838690764,\n 2.65: 0.0625844890572942,\n 2.66: 0.06130119895537784,\n 2.67: 0.060044273754449234,\n 2.68: 0.05881316160886951,\n 2.69: 0.05760732284528022,\n 2.7: 0.056426229662958675,\n 2.71: 0.055269365842986806,\n 2.72: 0.054136226465910174,\n 2.73: 0.05302631763758087,\n 2.74: 0.05193915622289355,\n 2.75: 0.050874269587130254,\n 2.76: 0.049831195344648506,\n 2.77: 0.04880948111465534,\n 2.78: 0.04780868428382078,\n 2.79: 0.04682837177549474,\n 2.8: 0.04586811982530386,\n 2.81: 0.04492751376290868,\n 2.82: 0.04400614779971782,\n 2.83: 0.043103624822355295,\n 2.84: 0.04221955619169597,\n 2.85: 0.04135356154728123,\n 2.86: 0.04050526861694172,\n 2.87: 0.03967431303145768,\n 2.88: 0.0388603381440957,\n 2.89: 0.038062994854864654,\n 2.9: 0.03728194143934271,\n 2.91: 0.03651684338193072,\n 2.92: 0.035767373213394925,\n 2.93: 0.03503321035256352,\n 2.94: 0.034314040952052864,\n 2.95: 0.03360955774789583,\n 2.96: 0.03291945991295819,\n 2.97: 0.03224345291402502,\n 2.98: 0.031581248372449945,\n 2.99: 0.030932563928259806,\n 3.0: 0.030297123107613535,\n 3.01: 0.029674655193516093,\n 3.02: 0.02906489509969292,\n 3.03: 0.028467583247534456,\n 3.04: 0.027882465446019748,\n 3.05: 0.027309292774537985,\n 3.06: 0.026747821468520974,\n 3.07: 0.02619781280781197,\n 3.08: 0.025659033007690644,\n 3.09: 0.025131253112481815,\n 3.1: 0.02461424889167613,\n 3.11: 0.024107800738493817,\n 3.12: 0.02361169357082371,\n 3.13: 0.023125716734474513,\n 3.14: 0.022649663908674178,\n 3.15: 0.02218333301375842,\n 3.16: 0.02172652612098884,\n 3.17: 0.02127904936444486,\n 3.18: 0.020840712854933652,\n 3.19: 0.020411330595866663,\n 3.2: 0.019990720401049523,\n 3.21: 0.019578703814337173,\n 3.22: 0.019175106031105112,\n 3.23: 0.018779755821490187,\n 3.24: 0.01839248545535588,\n 3.25: 0.018013130628938605,\n 3.26: 0.017641530393131204,\n 3.27: 0.017277527083363782,\n 3.28: 0.016920966251041177,\n 3.29: 0.016571696596498074,\n 3.3: 0.01622956990343485,\n 3.31: 0.015894440974796472,\n 3.32: 0.015566167570060121,\n 3.33: 0.015244610343896028,\n 3.34: 0.014929632786169059,\n 3.35: 0.014621101163247536,\n 3.36: 0.014318884460588354,\n 3.37: 0.014022854326567706,\n 3.38: 0.013732885017527228,\n 3.39: 0.01344885334400668,\n 3.4: 0.013170638618135529,\n 3.41: 0.012898122602154912,\n 3.42: 0.012631189458044617,\n 3.43: 0.012369725698228178,\n 3.44: 0.012113620137331383,\n 3.45: 0.011862763844969412,\n 3.46: 0.011617050099539002,\n 3.47: 0.011376374342992102,\n 3.48: 0.011140634136568727,\n 3.49: 0.01090972911746663,\n 3.5: 0.010683560956426611,\n 3.51: 0.010462033316212704,\n 3.52: 0.010245051810966528,\n 3.53: 0.01003252396641628,\n 3.54: 0.009824359180921083,\n 3.55: 0.009620468687331737,\n 3.56: 0.009420765515649675,\n 3.57: 0.009225164456466279,\n 3.58: 0.009033582025164947,\n 3.59: 0.008845936426869488,\n 3.6: 0.00866214752212143,\n 3.61: 0.008482136793271063,\n 3.62: 0.008305827311565856,\n 3.63: 0.008133143704921087,\n 3.64: 0.007964012126357731,\n 3.65: 0.0077983602230932685,\n 3.66: 0.007636117106270479,\n 3.67: 0.007477213321311236,\n 3.68: 0.007321580818881046,\n 3.69: 0.0071691529264512974,\n 3.7: 0.00701986432044647,\n 3.71: 0.0068736509989636135,\n 3.72: 0.006730450255051509,\n 3.73: 0.006590200650538033,\n 3.74: 0.0064528419903934235,\n 3.75: 0.006318315297618468,\n 3.76: 0.006186562788646101,\n 3.77: 0.006057527849245563,\n 3.78: 0.005931155010918619,\n 3.79: 0.005807389927777061,\n 3.8: 0.005686179353891703,\n 3.81: 0.005567471121102565,\n 3.82: 0.005451214117280773,\n 3.83: 0.005337358265032506,\n 3.84: 0.005225854500835768,\n 3.85: 0.0051166547546009425,\n 3.86: 0.005009711929646145,\n 3.87: 0.004904979883078845,\n 3.88: 0.0048024134065751305,\n 3.89: 0.00470196820754839,\n 3.9: 0.004603600890699413,\n 3.91: 0.004507268939939709,\n 3.92: 0.004412930700680644,\n 3.93: 0.004320545362480518,\n 3.94: 0.004230072942042353,\n 3.95: 0.00414147426655502,\n 3.96: 0.004054710957370815,\n 3.97: 0.003969745414012233,\n 3.98: 0.003886540798501464,\n 3.99: 0.003805061020005835}"
     },
     "metadata": {},
     "output_type": "execute_result",
     "execution_count": 18
    }
   ],
   "source": [
    "result_bank"
   ],
   "metadata": {
    "collapsed": false,
    "pycharm": {
     "name": "#%%",
     "is_executing": false
    }
   }
  }
 ],
 "metadata": {
  "kernelspec": {
   "display_name": "Python 3",
   "language": "python",
   "name": "python3"
  },
  "language_info": {
   "codemirror_mode": {
    "name": "ipython",
    "version": 2
   },
   "file_extension": ".py",
   "mimetype": "text/x-python",
   "name": "python",
   "nbconvert_exporter": "python",
   "pygments_lexer": "ipython2",
   "version": "2.7.6"
  },
  "pycharm": {
   "stem_cell": {
    "cell_type": "raw",
    "source": [],
    "metadata": {
     "collapsed": false
    }
   }
  }
 },
 "nbformat": 4,
 "nbformat_minor": 0
}